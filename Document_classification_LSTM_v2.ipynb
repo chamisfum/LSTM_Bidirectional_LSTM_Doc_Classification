{
  "nbformat": 4,
  "nbformat_minor": 0,
  "metadata": {
    "colab": {
      "name": "Document_classification v2.ipynb",
      "provenance": [],
      "collapsed_sections": [],
      "mount_file_id": "13RuR8VPiUcRR2LJY7XZhW6DE-MAW7sLJ",
      "authorship_tag": "ABX9TyMfyoBVuuyv2aHRLkfrWqhP",
      "include_colab_link": true
    },
    "kernelspec": {
      "name": "python3",
      "display_name": "Python 3"
    },
    "accelerator": "GPU"
  },
  "cells": [
    {
      "cell_type": "markdown",
      "metadata": {
        "id": "view-in-github",
        "colab_type": "text"
      },
      "source": [
        "<a href=\"https://colab.research.google.com/github/chamisfum/LSTM_Bidirectional_LSTM_Doc_Classification/blob/master/Document_classification_LSTM_v2.ipynb\" target=\"_parent\"><img src=\"https://colab.research.google.com/assets/colab-badge.svg\" alt=\"Open In Colab\"/></a>"
      ]
    },
    {
      "cell_type": "code",
      "metadata": {
        "id": "GWuZECCejCtX",
        "colab_type": "code",
        "colab": {}
      },
      "source": [
        "# Define kaggle json path\n",
        "import os\n",
        "os.environ['KAGGLE_CONFIG_DIR'] = \"/content/drive/My Drive/RESEARCH CENTER/DATASETS\""
      ],
      "execution_count": null,
      "outputs": []
    },
    {
      "cell_type": "code",
      "metadata": {
        "id": "9y7oMSJnx3qm",
        "colab_type": "code",
        "colab": {
          "base_uri": "https://localhost:8080/",
          "height": 35
        },
        "outputId": "bef7c513-d4fd-4d04-cc98-3b7c9753f5fb"
      },
      "source": [
        "%cd /content/drive/My Drive/RESEARCH CENTER/DATASETS"
      ],
      "execution_count": null,
      "outputs": [
        {
          "output_type": "stream",
          "text": [
            "/content/drive/My Drive/RESEARCH CENTER/DATASETS\n"
          ],
          "name": "stdout"
        }
      ]
    },
    {
      "cell_type": "code",
      "metadata": {
        "id": "qBrIetUJuzZd",
        "colab_type": "code",
        "colab": {
          "base_uri": "https://localhost:8080/",
          "height": 35
        },
        "outputId": "5455b953-060e-447d-d739-a3d2ffe173e9"
      },
      "source": [
        "cd bbc_document_classification/"
      ],
      "execution_count": null,
      "outputs": [
        {
          "output_type": "stream",
          "text": [
            "/content/drive/My Drive/RESEARCH CENTER/DATASETS/bbc_document_classification\n"
          ],
          "name": "stdout"
        }
      ]
    },
    {
      "cell_type": "code",
      "metadata": {
        "id": "hzcDs-KSx5AM",
        "colab_type": "code",
        "colab": {
          "base_uri": "https://localhost:8080/",
          "height": 35
        },
        "outputId": "25421c1d-e890-44e2-8c7c-52fc50ca7da9"
      },
      "source": [
        "!ls # "
      ],
      "execution_count": null,
      "outputs": [
        {
          "output_type": "stream",
          "text": [
            "bbc  dev.csv  Document_classification.ipynb  test.csv  train.csv\n"
          ],
          "name": "stdout"
        }
      ]
    },
    {
      "cell_type": "code",
      "metadata": {
        "id": "6JQndvSl0Jeh",
        "colab_type": "code",
        "colab": {
          "base_uri": "https://localhost:8080/",
          "height": 52
        },
        "outputId": "92441fdd-bbed-46e8-bd7e-337516166b00"
      },
      "source": [
        "import numpy as np \n",
        "import pandas as pd\n",
        "import matplotlib.pyplot as plt\n",
        "import seaborn as sns\n",
        "import tensorflow as tf\n",
        "from tensorflow.keras.callbacks import EarlyStopping\n",
        "from tensorflow.keras.preprocessing.text import Tokenizer\n",
        "from tensorflow.keras.preprocessing.sequence import pad_sequences\n",
        "from tensorflow.keras.models import Sequential\n",
        "from tensorflow.keras.layers import Dense, Embedding, LSTM, SpatialDropout1D, Dropout, BatchNormalization, Bidirectional\n",
        "from sklearn.model_selection import train_test_split\n",
        "# from tensorflow.keras.utils.np_utils import to_categorical\n",
        "from tensorflow.keras.callbacks import EarlyStopping\n",
        "from tensorflow.keras.layers import Dropout\n",
        "import re"
      ],
      "execution_count": null,
      "outputs": [
        {
          "output_type": "stream",
          "text": [
            "/usr/local/lib/python3.6/dist-packages/statsmodels/tools/_testing.py:19: FutureWarning: pandas.util.testing is deprecated. Use the functions in the public API at pandas.testing instead.\n",
            "  import pandas.util.testing as tm\n"
          ],
          "name": "stderr"
        }
      ]
    },
    {
      "cell_type": "code",
      "metadata": {
        "id": "bjN3cMUp-xW8",
        "colab_type": "code",
        "colab": {
          "base_uri": "https://localhost:8080/",
          "height": 52
        },
        "outputId": "76db4194-a392-486f-dcac-91fd3686ad29"
      },
      "source": [
        "import nltk\n",
        "nltk.download('stopwords')\n",
        "from nltk.corpus import stopwords\n",
        "from nltk import word_tokenize\n",
        "STOPWORDS = set(stopwords.words('english'))"
      ],
      "execution_count": null,
      "outputs": [
        {
          "output_type": "stream",
          "text": [
            "[nltk_data] Downloading package stopwords to /root/nltk_data...\n",
            "[nltk_data]   Unzipping corpora/stopwords.zip.\n"
          ],
          "name": "stdout"
        }
      ]
    },
    {
      "cell_type": "code",
      "metadata": {
        "id": "XBHbR_ly_Fn8",
        "colab_type": "code",
        "colab": {
          "base_uri": "https://localhost:8080/",
          "height": 17
        },
        "outputId": "3106a632-1bb9-44bc-e72c-5eb02240aa79"
      },
      "source": [
        "from bs4 import BeautifulSoup\n",
        "import cufflinks\n",
        "from IPython.core.interactiveshell import InteractiveShell\n",
        "InteractiveShell.ast_node_interactivity = 'all'\n",
        "cufflinks.go_offline()\n",
        "cufflinks.set_config_file(world_readable=True, theme='pearl')"
      ],
      "execution_count": null,
      "outputs": [
        {
          "output_type": "display_data",
          "data": {
            "text/html": [
              "        <script type=\"text/javascript\">\n",
              "        window.PlotlyConfig = {MathJaxConfig: 'local'};\n",
              "        if (window.MathJax) {MathJax.Hub.Config({SVG: {font: \"STIX-Web\"}});}\n",
              "        if (typeof require !== 'undefined') {\n",
              "        require.undef(\"plotly\");\n",
              "        requirejs.config({\n",
              "            paths: {\n",
              "                'plotly': ['https://cdn.plot.ly/plotly-latest.min']\n",
              "            }\n",
              "        });\n",
              "        require(['plotly'], function(Plotly) {\n",
              "            window._Plotly = Plotly;\n",
              "        });\n",
              "        }\n",
              "        </script>\n",
              "        "
            ]
          },
          "metadata": {
            "tags": []
          }
        }
      ]
    },
    {
      "cell_type": "markdown",
      "metadata": {
        "id": "eWqgFSM6ueFv",
        "colab_type": "text"
      },
      "source": [
        "### **Data preparation**"
      ]
    },
    {
      "cell_type": "code",
      "metadata": {
        "id": "gIUjdWuo_Ooa",
        "colab_type": "code",
        "colab": {}
      },
      "source": [
        "df1 = pd.read_csv('dev.csv')\n",
        "df2 = pd.read_csv('train.csv')\n",
        "df3 = pd.read_csv('test.csv')"
      ],
      "execution_count": null,
      "outputs": []
    },
    {
      "cell_type": "code",
      "metadata": {
        "id": "EsIF8ct7_i9i",
        "colab_type": "code",
        "colab": {}
      },
      "source": [
        "data = pd.concat([df1,df2,df3]).drop_duplicates().reset_index(drop=True).drop(columns=['Unnamed: 0']).rename(columns={\"text\": \"news_text\"})"
      ],
      "execution_count": null,
      "outputs": []
    },
    {
      "cell_type": "code",
      "metadata": {
        "id": "2mUffzwWASWo",
        "colab_type": "code",
        "colab": {
          "base_uri": "https://localhost:8080/",
          "height": 399
        },
        "outputId": "331982a7-7ace-475f-8d84-5f8a1ac16de9"
      },
      "source": [
        "data"
      ],
      "execution_count": null,
      "outputs": [
        {
          "output_type": "execute_result",
          "data": {
            "text/html": [
              "<div>\n",
              "<style scoped>\n",
              "    .dataframe tbody tr th:only-of-type {\n",
              "        vertical-align: middle;\n",
              "    }\n",
              "\n",
              "    .dataframe tbody tr th {\n",
              "        vertical-align: top;\n",
              "    }\n",
              "\n",
              "    .dataframe thead th {\n",
              "        text-align: right;\n",
              "    }\n",
              "</style>\n",
              "<table border=\"1\" class=\"dataframe\">\n",
              "  <thead>\n",
              "    <tr style=\"text-align: right;\">\n",
              "      <th></th>\n",
              "      <th>label</th>\n",
              "      <th>news_text</th>\n",
              "    </tr>\n",
              "  </thead>\n",
              "  <tbody>\n",
              "    <tr>\n",
              "      <th>0</th>\n",
              "      <td>sport</td>\n",
              "      <td>Man Utd stroll to Cup win  Wayne Rooney made a...</td>\n",
              "    </tr>\n",
              "    <tr>\n",
              "      <th>1</th>\n",
              "      <td>entertainment</td>\n",
              "      <td>Slater to star in Broadway play  Actor Christi...</td>\n",
              "    </tr>\n",
              "    <tr>\n",
              "      <th>2</th>\n",
              "      <td>entertainment</td>\n",
              "      <td>US TV host Clark suffers stroke  Veteran US te...</td>\n",
              "    </tr>\n",
              "    <tr>\n",
              "      <th>3</th>\n",
              "      <td>entertainment</td>\n",
              "      <td>U2's desire to be number one  U2, who have won...</td>\n",
              "    </tr>\n",
              "    <tr>\n",
              "      <th>4</th>\n",
              "      <td>tech</td>\n",
              "      <td>Security warning over 'FBI virus'  The US Fede...</td>\n",
              "    </tr>\n",
              "    <tr>\n",
              "      <th>...</th>\n",
              "      <td>...</td>\n",
              "      <td>...</td>\n",
              "    </tr>\n",
              "    <tr>\n",
              "      <th>2220</th>\n",
              "      <td>business</td>\n",
              "      <td>Kraft cuts snack ads for children  Kraft plans...</td>\n",
              "    </tr>\n",
              "    <tr>\n",
              "      <th>2221</th>\n",
              "      <td>business</td>\n",
              "      <td>FBI agent colludes with analyst  A former FBI ...</td>\n",
              "    </tr>\n",
              "    <tr>\n",
              "      <th>2222</th>\n",
              "      <td>politics</td>\n",
              "      <td>Defiant hunts put ban to the test  Thousands o...</td>\n",
              "    </tr>\n",
              "    <tr>\n",
              "      <th>2223</th>\n",
              "      <td>business</td>\n",
              "      <td>Chinese exports rise 25% in 2004  Exports from...</td>\n",
              "    </tr>\n",
              "    <tr>\n",
              "      <th>2224</th>\n",
              "      <td>sport</td>\n",
              "      <td>A November to remember  Last Saturday, one new...</td>\n",
              "    </tr>\n",
              "  </tbody>\n",
              "</table>\n",
              "<p>2225 rows × 2 columns</p>\n",
              "</div>"
            ],
            "text/plain": [
              "              label                                          news_text\n",
              "0             sport  Man Utd stroll to Cup win  Wayne Rooney made a...\n",
              "1     entertainment  Slater to star in Broadway play  Actor Christi...\n",
              "2     entertainment  US TV host Clark suffers stroke  Veteran US te...\n",
              "3     entertainment  U2's desire to be number one  U2, who have won...\n",
              "4              tech  Security warning over 'FBI virus'  The US Fede...\n",
              "...             ...                                                ...\n",
              "2220       business  Kraft cuts snack ads for children  Kraft plans...\n",
              "2221       business  FBI agent colludes with analyst  A former FBI ...\n",
              "2222       politics  Defiant hunts put ban to the test  Thousands o...\n",
              "2223       business  Chinese exports rise 25% in 2004  Exports from...\n",
              "2224          sport  A November to remember  Last Saturday, one new...\n",
              "\n",
              "[2225 rows x 2 columns]"
            ]
          },
          "metadata": {
            "tags": []
          },
          "execution_count": 10
        }
      ]
    },
    {
      "cell_type": "code",
      "metadata": {
        "id": "VcHPR1crCOgT",
        "colab_type": "code",
        "colab": {
          "base_uri": "https://localhost:8080/",
          "height": 177
        },
        "outputId": "3b2da75b-2ca9-4c73-9e8f-bb27eaaf23e1"
      },
      "source": [
        "data.info()"
      ],
      "execution_count": null,
      "outputs": [
        {
          "output_type": "stream",
          "text": [
            "<class 'pandas.core.frame.DataFrame'>\n",
            "RangeIndex: 2225 entries, 0 to 2224\n",
            "Data columns (total 2 columns):\n",
            " #   Column     Non-Null Count  Dtype \n",
            "---  ------     --------------  ----- \n",
            " 0   label      2225 non-null   object\n",
            " 1   news_text  2225 non-null   object\n",
            "dtypes: object(2)\n",
            "memory usage: 34.9+ KB\n"
          ],
          "name": "stdout"
        }
      ]
    },
    {
      "cell_type": "markdown",
      "metadata": {
        "id": "BTMdACpWujw3",
        "colab_type": "text"
      },
      "source": [
        "### **Class distribution**"
      ]
    },
    {
      "cell_type": "code",
      "metadata": {
        "id": "5D8AYcXWBdMM",
        "colab_type": "code",
        "colab": {
          "base_uri": "https://localhost:8080/",
          "height": 295
        },
        "outputId": "c00cca21-c5ba-4fb2-f607-cf772aa0f90a"
      },
      "source": [
        "sns.countplot(data['label']);\n",
        "plt.title('Data: Target distribution');"
      ],
      "execution_count": null,
      "outputs": [
        {
          "output_type": "display_data",
          "data": {
            "image/png": "[encoded data removed]",
            "text/plain": [
              "<Figure size 432x288 with 1 Axes>"
            ]
          },
          "metadata": {
            "tags": [],
            "needs_background": "light"
          }
        }
      ]
    },
    {
      "cell_type": "code",
      "metadata": {
        "id": "bXeRsAx_gdws",
        "colab_type": "code",
        "colab": {
          "base_uri": "https://localhost:8080/",
          "height": 124
        },
        "outputId": "5d6f685c-ea8d-408e-9674-9dee98b80555"
      },
      "source": [
        "data.label.value_counts()"
      ],
      "execution_count": null,
      "outputs": [
        {
          "output_type": "execute_result",
          "data": {
            "text/plain": [
              "sport            511\n",
              "business         510\n",
              "politics         417\n",
              "tech             401\n",
              "entertainment    386\n",
              "Name: label, dtype: int64"
            ]
          },
          "metadata": {
            "tags": []
          },
          "execution_count": 13
        }
      ]
    },
    {
      "cell_type": "markdown",
      "metadata": {
        "id": "WDBN1J0zupBE",
        "colab_type": "text"
      },
      "source": [
        "### **Data preview**"
      ]
    },
    {
      "cell_type": "code",
      "metadata": {
        "id": "_Z_Y_zfRxJGl",
        "colab_type": "code",
        "colab": {}
      },
      "source": [
        "def print_plot(index):\n",
        "    example = data[data.index == index][['news_text', 'label']].values[0]\n",
        "    if len(example) > 0:\n",
        "        print(example[0])\n",
        "        print('label:', example[1])"
      ],
      "execution_count": null,
      "outputs": []
    },
    {
      "cell_type": "code",
      "metadata": {
        "id": "l0xKUeUOxSre",
        "colab_type": "code",
        "colab": {
          "base_uri": "https://localhost:8080/",
          "height": 641
        },
        "outputId": "92c35df9-1ba0-46fe-b5bd-4ef54eb4edcb"
      },
      "source": [
        "for i in range(0,50,3):\n",
        "  print_plot(i)"
      ],
      "execution_count": null,
      "outputs": [
        {
          "output_type": "stream",
          "text": [
            "Man Utd stroll to Cup win  Wayne Rooney made a winning return to Everton as Manchester United cruised into the FA Cup quarter-finals.  Rooney received a hostile reception, but goals in each half from Quinton Fortune and Cristiano Ronaldo silenced the jeers at Goodison Park. Fortune headed home after 23 minutes before Ronaldo scored when Nigel Martyn parried Paul Scholes' free-kick. Marcus Bent missed Everton's best chance when Roy Carroll, who was later struck by a missile, saved at his feet.  Rooney's return was always going to be a potential flashpoint, and he was involved in an angry exchange with a spectator even before kick-off. And Rooney's every touch was met with a deafening chorus of jeers from the crowd that once idolised the 19-year-old. Everton started brightly and Fortune needed to be alert to scramble away a header from Bent near the goal-line. But that was the cue for United to take complete control with a supreme passing display on a Goodison Park pitch that was cutting up. Fortune gave United the lead after 23 minutes, rising to meet Ronaldo's cross from eight yards after the Portuguese youngster had been allowed too much time and space by the hapless Gary Naysmith. United dominated without creating too many clear-cut chances, and they almost paid the price for not making the most of their domination two minutes before half-time. Mikel Arteta played a superb ball into the area but Bent, played onside by Gabriel Heintze, hesitated and Carroll plunged at his fee to save. United almost doubled their lead after 48 minutes when Ronaldo's low drive from 25 yards took a deflection off Tony Hibbert, but Martyn dived to save brilliantly. And Martyn came to Everton's rescue three minutes later when Rooney's big moment almost arrived as he raced clean through, but once again the veteran keeper was in outstanding form. But there was nothing Martyn could do when United doubled their lead after 57 minutes as they doubled their advantage. Scholes' free-kick took a deflection, and Martyn could only parry the ball out for Ronaldo, who reacted first to score easily. Everton's problems worsened when James McFadden limped off with an injury. And there may be further trouble ahead for Everton after goalkeeper Carroll required treatment after he was struck on the head by a missile thrown from behind the goal. Rooney's desperate search for a goal on his return to Everton was halted again by Martyn in injury-time when he outpaced Stubbs, but once again Martyn denied the England striker.  - Manchester United coach Sir Alex Ferguson: \"It was a fantastic performance by us. In fairness I think Everton have missed a couple of players and got some young players out. \"The boy Ronaldo is a fantastic player. He's persistent and never gives in. \"I don't know how many fouls he had He gets up and wants the ball again, he's truly a fabulous player.\" Everton: Martyn, Hibbert, Yobo, Stubbs, Naysmith, Osman, Carsley, Arteta, Kilbane, McFadden, Bent. Subs: Wright, Pistone, Weir, Plessis, Vaughan. Manchester United: Carroll, Gary Neville, Brown, Ferdinand, Heinze, Ronaldo, Phil Neville, Keane, Scholes, Fortune, Rooney. Subs: Howard, Giggs, Smith, Miller, Spector. Referee: R Styles (Hampshire)\n",
            "label: sport\n",
            "U2's desire to be number one  U2, who have won three prestigious Grammy Awards for their hit Vertigo, are stubbornly clinging to their status as one of the biggest bands in the world.  The most popular groups in the history of rock all have several things in common. The music must be inspired and appeal across generations and be distinctive, if not always groundbreaking. But such success is down to more than music. They have to be compelling performers, charismatic and intelligent enough to make good decisions and keep their feet on the ground. They also have to want it. They have to want to be the biggest band ever and not stop wanting it. The Beatles had it, the Rolling Stones still have it, REM hold onto it and Queen were it in a catsuit. And U2 have it in spades, and keep churning it out. Their new album, How To Dismantle An Atomic Bomb, comes 28 years after the schoolfriends got together in Dublin and 17 years after The Joshua Tree cemented their place on the all-time rock A-list.  They may have lost some of the edginess and raw, youthful force that propelled them to the top, but they have lost none of the desire or ability to craft songs and albums.  Vertigo, the first single from the new album, went straight into the UK singles chart at number one, knocking Eminem off the top spot and giving them their 26th top 10 hit. \"The challenge is to be bigger and bolder and better - to make records the whole world will listen to,\" Bono recently said. Drummer Larry Mullen Jr echoed those sentiments: \"We're very competitive - we want to be on the radio, have big singles. We don't want to be thought of as a veteran band.\" The band have done \"everything in their considerable powers\" to ensure they remain the biggest band in the world, according to Q magazine editor Paul Rees.  \"This makes them hugely determined and formidable.\" He added: \"They are equally determined to push themselves to make music that continues to stand up. \"As such, they've constantly re-invented and challenged themselves. They are, perhaps, alone as the only rock band that has got better with age.\" The other key ingredient was the fact they were highly organised, Mr Rees said. \"They do everything in the right way.\" The group were born when Mullen put an appeal for bandmates on a high school notice board, attracting fellow pupils Paul Hewson (Bono, vocals), Adam Clayton (bass), David Evans (The Edge, guitar) and his brother Dick.  Dick Evans soon dropped out and the four-piece were known as The Feedback and The Hype before settling on U2.  By 1978, they had won a talent contest and got noticed by a manager, Paul McGuinness. \"They were brilliant, but very coarse,\" McGuinness recently said. \"In a way, they were doing exactly what they do now. Only badly.\" They struggled to attract record company attention, later being described as \"pretty damn average\" and \"strange and eerie\" by scouts who saw them live. They released two Ireland-only singles, which topped the national charts in 1979 and 1980, leading to a deal with Island and their debut album Boy. The stadium-filling, anthemic sound was U2's aim from the start, and their third album, War, saw them make the breakthrough on both sides of the Atlantic, going to number one in the UK and 12 in the US. Songs like Sunday Bloody Sunday and New Year's Day brought success and an image as a political and spiritual band - which Bono rejected as a cliche.  His stage performances - which included flag-waving, speaker-climbing and drum-throwing - earned him a reputation as an electric performer, and their appearance at 1985's Live Aid is widely seen as sealing their global stardom.  In 1987, The Joshua Tree broke sales records and saw the band reach the height of their powers with hits including Where the Streets Have No Name, I Still Haven't Found What I'm Looking For and With Or Without You. Those songs took the band's epic, atmospheric sound to a simple, powerful and popular pinnacle. The end of the decade marked a crucial point for the band - they had reached the top but still yearned for new challenges and achievements. These came in the form of explorations of different branches of rock and forays into electronic dance music, plus wildly extravagant stage shows, while still trying to retain their mass appeal. The Achtung Baby album in 1991 was followed by Zooropa, Pop and their corresponding stadium tours, which featured giant olives, flying cars, live phone calls to the White House and Bono's transformation into alter-egos The Fly and MacPhisto. He was also building a parallel reputation - not always to the pleasure of his bandmates - as a campaigner on issues from global debt to Aids. Before the release of How To Dismantle An Atomic Bomb, they had sold 125 million albums around the world. But they still want more.\n",
            "label: entertainment\n",
            "Alicia Keys to open US Super Bowl  R&B star Alicia Keys is to open February's Super Bowl singing a song only previously performed there by Ray Charles and Vicki Carr.  Keys, who will sing America the Beautiful, will be accompanied by 150 students from the Florida School for the Deaf and the Blind. Charles, who died last year, attended the school as a child in 1937. Keys said she was \"very excited\", describing Charles as \"an artist I admire, miss and respect\". \"I know that this is going to be a very touching and memorable moment,\" she said.  It will be her first performance at the Super Bowl, which will be watched by millions in the US on 6 February. Sir Paul McCartney will provide the half-time entertainment in the slot filled by Janet Jackson last year. Organisers have promised there will be no repeat of her nipple-baring incident that sparked thousands of complaints on US TV's most-watched broadcast. A National Football League spokesman said they were \"comfortable\" this show would be acceptable to a mass audience. The game and show were watched by 144 million people in the US in 2003.  Twenty CBS-owned TV stations were fined $550,000 (£300,000) by the country's TV regulatory agency after more than 542,000 complaints were made about Janet Jackson's \"wardrobe malfunction\". Sir Paul said: \"There's nothing bigger than being asked to perform at the Super Bowl. \"We're looking forward to rocking the millions at home and in the stadium.\"\n",
            "label: entertainment\n",
            "No UK premiere for Rings musical  The producers behind the Lord of the Rings musical have abandoned plans to premiere the show in London because no suitable theatre was available.  The £11.5m show will make its debut in Toronto in March 2006, after it was found that all three West End theatres with sufficient capacity were booked. The musical is not expected in London before December 2006. Producer Kevin Wallace said it would be \"worth waiting for\". \"It will be like nothing they have ever seen before.\" \"I know there will be a lot of disappointed British Tolkien fans who hoped to see the show in London, but we couldn't get a London theatre in time,\" added the British producer. The world premiere of the stage musical, co-produced by Canadian theatrical impresarios David and Ed Mirvish, will take place at Toronto's Princess of Wales Theatre next year.  \"Toronto really wanted this premiere. The Tolkien books and films are hugely popular in Canada,\" said Mr Wallace, shortly after signing the deal in Canada. \"We hope the anticipation and excitement over here will create an even bigger buzz by the time we open in London.\" Auditions begin in Canada on Thursday, but up to five British actors may join the cast, under a deal struck with Canadian Actors' Equity. The music for the show is being written by Bollywood composer AR Rahman, who was behind Andrew Lloyd Webber's West End musical Bollywood Dreams, and in conjuction with the Finnish group Varttina.  \"There will be no singing and dancing Hobbits. The music will be in a very traditional mould and draw on ethnic traditions,\" assured Mr Wallace. The musical's British director is Matthew Warchus, best known for staging the worldwide stage hit Art. \"The production will be a hybrid of text, physical theatre, music and spectacle never previously seen on this scale,\" he said. \"Only in the theatre are we actually plunged into the events as they happen. The environment surrounds us and we are in Middle Earth.\" New Zealander Peter Jackson took 10 years to bring JRR Tolkien's fantasy trilogy to the big screen, winning Academy Awards for best film and best director for the final film The Return of the King in 2004.\n",
            "label: entertainment\n",
            "Beijingers fume over parking fees  Choking traffic jams in Beijing are prompting officials to look at reorganising car parking charges.  Car ownership has risen fast in recent years, and there are now two and a half million cars on the city's roads. The trouble is that the high status of car ownership is matched by expensive fees at indoor car parks, making motorists reluctant to use them. Instead roads are being clogged by drivers circling in search of a cheaper outdoor option. \"The price differences between indoor and outdoor lots are unreasonable,\" said Wang Yan, an official from the Beijing Municipal Commission for Development and Reform quoted in the state-run China Daily newspaper. Mr Wang, who is in charge of collecting car parking fees, said his team would be looking at adjusting parking prices to close the gap. Indoor parking bays can cost up to 250% more than outdoor ones.  Sports fans who drive to matches may also find themselves the target of the commission's road rage. It wants them to use public transport, and is considering jacking up the prices of car parks near sports grounds. Mr Wang said his review team may scrap the relatively cheap hourly fee near such places and impose a higher flat rate during matches. Indoor parking may be costly, but it is not always secure. Mr Wang's team are also going to look into complaints from residents about poor service received in exchange for compulsory monthly fees of up to 400 yuan ($48; £26). The Beijing authorities decided two years ago that visiting foreign dignitaries' motorcades should not longer get motorcycle outriders as they blocked the traffic. Unclogging Beijing's increasingly impassable streets is a major concern for the Chinese authorities, who are building dozens of new roads to create a showcase modern city ahead of the 2008 Olympic Games.\n",
            "label: business\n",
            "Ireland win eclipses refereeing 'errors'  The International Rugby Board may have to step in to stop frustrated coaches and players from publicly haranguing referees when things go belly-up.  It may have to go the whole way and have NFL-style video cameras all over the field, or slap the vociferous perpetrators over the knuckles. What the IRB does not want is a football scenario where the verbal slanging matches often overshadow the game itself. Sunday's explosive Six Nations clash at Lansdowne Road was a good example as Ireland took another step towards their first Grand Slam since 1948. The game was as exciting as it comes, with a much-improved England side enraged at a few decisions that did not go their way. One can understand that frustration. There was no doubt that Ireland had the rub of the green in their 19-13 victory, but the reaction from the England camp may not have endeared them to the sport's \"blazers\". Referee Jonathan Kaplan was not perfect by any means and two decisions in particular made him the villain of the piece. I doubt whether Kaplan would have been too pleased at the comments made. After all, he has no public recourse to criticism.  It was the same for Simon McDowell, the touch judge who was heavily criticised by Scotland coach Matt Williams after their defeat against France. As far as England were concerned, there were queries over Mark Cueto's first half-effort when he went over in the corner from a Charlie Hodgson kick.  England coach Andy Robinson referred to a similar case at Ravenhill in January when Ulster were playing Gloucester in the Heineken Cup. On that occasion, David Humphreys kicked to Tommy Bowe, who touched down in the corner only for the try to be wiped out. But you cannot have cameras at every conceivable angle to pick up such anomalies. Perhaps Robinson was right to say the referee should have gone upstairs when Josh Lewsey was driven over the Irish line near the end.  Lewsey claims he touched it down and was in full control. However, one has to credit Ireland flanker Johnny O'Connor for cleverly scooping the ball away and blocking any evidence of a touchdown. But in rugby, everything tends to even out over the 80 minutes. The referee also missed England's Danny Grewcock taking out Ronan O'Gara off the ball to allow Martin Corry a Sunday stroll to the line. Those were the stand-out moments in a classic game between the two old foes.  But there were many more, and one should not take away from those. Brian O'Driscoll's winning try was as well-conceived as they come, while Charlie Hodgson's brilliant kicking display was another highlight. And Ronan O'Gara's tremendous ability to control the game was also a crucial component. But the defining moments came with Ireland under the cosh in the final 15 minutes. Two outstanding pieces of defensive play denied England and allowed Ireland to hold on. The first was Denis Hickie's brilliant double tackle in the right-hand corner. He gobbled up Cueto from another Hodgson cross-field kick, then regained his feet to stop Lewsey from scoring a certain try. Ireland's second-row colossus Paul O'Connell was equally superb. England had turned Ireland one way then the other, and the defence cordon was slowly disintegrating. England prop Matt Stevens ran in at full steam to suck in a few more tacklers. Unfortunately he ran into O'Connell who hit him hard - very hard - and then wrestled the ball away for a crucial turnover. That spoke volumes about Ireland's back-foot display, with defensive coach Mike Ford taking a bow at the end. To win a game like that showed that Ireland have moved forward. It may be tries that win games, but it is defence that wins championships.\n",
            "label: sport\n",
            "Germany calls for EU reform  German Chancellor Gerhard Schroeder has called for radical reform of the EU's stability pact to grant countries more flexibility over their budget deficits.  Mr Schroeder said existing fiscal rules should be loosened to allow countries to run deficits above the current 3% limit if they met certain criteria. Writing in the Financial Times, Mr Schroeder also said heads of government should have a greater say in reforms. Changes to the pact are due to be agreed at an economic summit in March.  The current EU rules limit the size of a eurozone country's deficit to 3% of GDP. Countries which exceed the threshold are liable to heavy fines by the European Commission, although several countries, including Germany, have breached the rules consistently since 2002 without facing punishment. The European Commission acknowledged last month that it would not impose sanctions on countries who break the rules.  Mr Schroeder - a staunch supporter of the pact when it was set up in the 1990s - said exemptions were now needed to take into account the cost of domestic reform programmes and changing economic conditions. \"The stability pact will work better if intervention by European institutions in the budgetary sovereignty of national parliaments is only permitted under very limited conditions,\" he wrote. \"Only if their competences are respected will the member states be willing to align their policies more consistently with the economic goals of the EU.\"  Deficits should be allowed to rise above 3%, Mr Schroeder argued, if countries meet several \"mandatory criteria\". These include governments which are adopting costly structural reforms, countries which are suffering economic stagnation and nations which are shouldering \"special economic burdens\". The proposed changes would make it harder for the European Commission to launch infringement action against any state which breaches the pact's rules. Mr Schroeder's intervention comes ahead of a meeting of the 12 Eurozone finance ministers on Monday to discuss the pact. The issue will also be discussed at Tuesday's Ecofin meeting of the finance ministers of all 25 EU members. Mr Schroeder also called for heads of government to play a larger role in shaping reforms to the pact. A number of EU finance ministers are believed to favour only limited changes to the eurozone's rules.\n",
            "label: business\n",
            "Slimmer PlayStation triple sales  Sony PlayStation 2's slimmer shape has proved popular with UK gamers, with 50,000 sold in its first week on sale.  Sales have tripled since launch, outstripping Microsoft's Xbox, said market analysts Chart-Track. The numbers were also boosted by the release of the PS2-only game Grand Theft Auto: San Andreas. The title broke the UK sales record for video games in its first weekend of release. Latest figures suggest it has sold more than 677,000 copies.  \"It is obviously very, very encouraging for Sony because Microsoft briefly outsold them last week,\" John Houlihan, editor of Computerandvideogames.com told BBC News. \"And with Halo 2 [for Xbox] out next week, it really is a head-to-head contest between them and Xbox.\"  Although Xbox sales over the last week also climbed, PS2 sales were more than double that. The figures mean Sony is reaching the seven million barrier for UK sales of the console. Edinburgh-based developer, Rockstar, which is behind the GTA titles, has seen San Andreas pull in an estimated £24m in gross revenues over the weekend. In comparison, blockbuster films like Harry Potter and The Prisoner Of Azkaban took £11.5m in its first three days at the UK box office. The Lord of the Rings: The Return of the King took nearly £10m over its opening weekend, although games titles are four to five times more expensive than cinema tickets.  Gangster-themed GTA San Andreas is the sequel to Grand Theft Auto Vice City which previously held the record for the fastest-selling video game ever. The Xbox game Halo 2, released on 11 November in the UK, is also widely tipped to be one of the best-selling games of the year. The original title won universal acclaim in 2001, and sold more than four million copies.  Mr Houlihan added that Sony had done well with the PS2, but it definitely helped that the release of San Andreas coincided with the slimline PS2 hitting the shelves. The run-up to Christmas is a huge battlefield for games consoles and titles. Microsoft's Xbox had been winning the race up until last week in sales. The sales figures also suggest that it may be a largely adult audience driving demand, since GTA San Andreas has an 18 certificate. Sony and Microsoft have both reduced console prices recently and are preparing the way for the launches of their next generation consoles in 2005. \"Both have hit crucial price points at around £100 and that really does open up new consoles to new audience, plus the release of two really important games in terms of development are also driving those sales,\" said Mr Houlihan.\n",
            "label: tech\n",
            "Mixed signals from French economy  The French economy picked up speed at the end of 2004, official figures show - but still looks set to have fallen short of the government's hopes.  According to state statistics body INSEE, growth for the three months to December was a seasonally-adjusted 0.7-0.8%, ahead of the 0.6% forecast. If confirmed, that would be the best quarterly showing since early 2002. It leaves GDP up 2.3% for the full year, but short of the 2.5% which the French government had predicted.  Despite the apparent shortfall in annual economic growth, the good quarterly figures - a so-called \"flash estimate\" - mark a continuing trend of improving indicators for the health of the French economy. The government is reiterating a 2.5% target for 2005, while the European Central Bank is making positive noises for the 12-nation eurozone as a whole. Also on Friday, France's industrial output for December was released, showing 0.7% growth. \"The numbers are good,\" said David Naude, economist at Deutsche Bank. \"They send a positive signal of a rebound in output... and open the way for a continuation in that trend into the New Year.\" Service sector activity improved in January, hitting a seven-month high. But unemployment remains high at about 10%.\n",
            "label: business\n",
            "Hollywood to sue net film pirates  The US movie industry has launched legal action to sue people who facilitate illegal film downloading.  The Motion Picture Association of America wants to stop people using the program BitTorrent to swap movies. The industry is targeting people who run websites which provide information and internet links to movies which have been copied or filmed in cinemas. More than 100 server operators have been targeted in the actions launched in the US and UK, the MPAA added. The suits were filed against users of the file-sharing programs BitTorrent, eDonkey and DirectConnect in the United States, United Kingdom, France, Finland and the Netherlands, the MPAA said.  BitTorrent users can download movies by following a link to files which are found on websites called trackers. Unlike most peer-to-peer programs BitTorrent works by sharing a file, which could be anything from a legitimate digital photo to a copied movie, among multiple users at the same time. The movie industry hopes that suing the people who run the trackers will cut BitTorrent users off from illegal movies at source. Last month major film studios started legal action against 200 individuals who were swapping films online. The growth in broadband has made it quicker for people to download movies and the industry fears that if it does not take action now, it could suffer the same downturn as the music industry.\n",
            "label: tech\n",
            "Parmalat founder offers apology  The founder and former boss of Parmalat has apologised to investors who lost money as a result of the Italian dairy firm's collapse.  Calisto Tanzi said he would co-operate fully with prosecutors investigating the background to one of Europe's largest financial scandals. Parmalat was placed into bankruptcy protection in 2003 after a 14bn euro black hole was found in its accounts. More than 130,000 people lost money following the firm's collapse. Mr Tanzi, 66, issued a statement through his lawyer after five hours of questioning by prosecutors in Parma on 15 January.  Prosecutors are seeking indictments against Mr Tanzi and 28 others - including several members of his family and former Parmalat chief financial officer Fausto Tonna - for alleged manipulation of stock market prices and making misleading statements to accountants and Italy's financial watchdog. Two former Parmalat auditors will stand trial later this month for their role in the firm's collapse.  \"I apologise to all who have suffered so much damage as a result of my schemes to make my dream of an industrial project come true,\" Mr Tanzi's statement said. \"It is my duty to collaborate fully with prosecutors to reconstruct the causes of Parmalat's sudden default and who is responsible.\" Mr Tanzi spent several months in jail in the wake of Parmalat's collapse and was kept under house arrest until last September. Parmalat is now being run by a state appointed administrator, Enrico Bondi, who has launched lawsuits against 80 banks in an effort to recover money for the bankrupt company and its shareholders. He has alleged that these companies were aware of the true state of Parmalat's finances but continued to lend money to the company. The companies insist they were the victims of fraudulent book-keeping. Parmalat was declared insolvent after it emerged that 4 billion euros (£2.8bn; $4.8bn) it supposedly held in an offshore account did not in fact exist. The firm's demise sent shock waves through Italy, where its portfolio of top-selling food brands and its position as the owner of leading football club Parma had turned it into a household name.\n",
            "label: business\n",
            "US blogger fired by her airline  A US airline attendant suspended over \"inappropriate images\" on her blog - web diary - says she has been fired.  Ellen Simonetti, known as Queen of the Sky, wrote an anonymous semi-fictional account of her life in the sky. She was suspended by Delta in September. In a statement, she said she was initiating legal action against the airline for \"wrongful termination\". A Delta spokesperson confirmed on Wednesday that Ms Simonetti was no longer an employee. Delta has repeatedly declined to elaborate on what it calls \"internal employee matters\". A spokesperson reiterated this position on Wednesday, confirming only that Ms Simonetti was no longer with the company. The spokesperson also confirmed that there were \"very clear rules\" attached to the unauthorised use of Delta branding, including uniforms. Ms Simonetti announced on her blog she had been fired on 1 November.  She said in an official statement: \"As a result of my suspension and subsequent termination without cause by Delta Airlines I am moving forward with filing a discrimination complaint with the Federal Government EEOC [US Equal Employment Opportunity Commission].\" She added she had also hired a Texas-based law firm to initiate legal action for \"wrongful termination, defamation of character and lost future wages.\" Ms Simonetti told the BBC News website she had received no warning or further explanation when she was suspended on 25 September. Queen of the Sky has received a lot of support and advice from the global blogging community since news of her suspension was brought to light on the BBC News website and others.  Her story has highlighted concerns amongst the growing blogging community about conflicts of interest, employment law and free speech on personal websites. The blog, which she started in January as a way of getting over her mother's death, contains a mix of fictional and non-fictional accounts. Queen of the Sky developed over the months as a character in her own right, according to Ms Simonetti. In the postings, she made up fictional names for cities and other companies she mentioned to protect anonymity. But some postings contained images of herself in uniform. Of the 10 or so images only one showed Ms Simonetti's flight \"wings\". She removed them as soon as she was informed of her suspension. \"I never meant it as something to harm my company and don't understand how they think it did harm them,\" Ms Simonetti said. A legal expert in the US speculated that Delta might be concerned that the fictional content on the blog may be linked back to the airline after the images were posted.  Delta has been hit recently by pressures of rising fuel costs and fierce competition. It has said it needs to cut between 6,000 and 7,000 jobs and reduce costs by $5bn (£2.7bn) a year. Analysts had warned recently that the airline might have to seek Chapter 11 bankruptcy prevention. Last week, it struck a $1bn cost-cutting deal with its pilots which could save it from bankruptcy. The deal would see pilots accept a 32% pay cut in return for the right to buy 30 million Delta shares, unions said. And on Monday, it negotiated a deal to defer about $135m in debt which was due next year, until 2007. The airline also said it had agreed the terms of a $600m loan from American Express.\n",
            "label: tech\n",
            "'Evil twin' fear for wireless net  People using wireless high-speed net (wi-fi) are being warned about fake hotspots, or access points.  The latest threat, nicknamed evil twins, pose as real hotspots but are actually unauthorised base stations, say Cranfield University experts. Once logged onto an Evil Twin, sensitive data can be intercepted. Wi-fi is becoming popular as more devices come with wireless capability. London leads the global wi-fi hotspots league, with more than 1,000. The number of hotspots is expected to reach 200,000 by 2008, according to analysts. \"Users need to be wary of using their wi-fi enabled laptops or other portable devices in order to conduct financial transactions or anything that is of a sensitive or personal nature,\" said Professor Brian Collins, head of information systems at Cranfield University.  \"Users can also protect themselves by ensuring that their wi-fi device has its security measures activated,\" he added. BT Openzone, which operates a vast proportion of public hotspots in the UK, told the BBC News website that it made every effort to make its wi-fi secure. \"Naturally, people may have security concerns,\" said Chris Clark, chief executive for BT's wireless broadband.  \"But wi-fi networks are no more or less vulnerable than any other means of accessing the internet, like broadband or dial-up.\" He said BT Openzone, as well as others, have sophisticated encryption from the start of the login process to the service at a hotspot. \"This means that users' personal information and data, logon usernames and passwords are protected and secure,\" said Mr Clark.  In the vast majority of cases, base stations straight out of the box from the manufacturers are automatically set up with the least secure mode possible, said Dr Nobles. Cybercriminals who try to glean personal information using the scam, jam connections to a legitimate base station by sending a stronger signal near to the wireless client. Anyone with the right gear can find a real hotspot and substitute it with an evil twin. \"Cybercriminals don't have to be that clever to carry out such an attack,\" said Dr Phil Nobles, a wireless net and cybercrime expert at Cranfield. \"Because wireless networks are based on radio signals they can be easily detected by unauthorised users tuning into the same frequency.\"  Although wi-fi is increasing in popularity as more people want to use high-speed net on the move, there have been fears over how secure it is. Some companies have been reluctant to use them in large numbers because of fears about security. A wireless network that is not protected can provide a backdoor into a company's computer system. Public wi-fi hotspots offered by companies like BT Openzone and The Cloud, are accessible after users sign up and pay for use. But many home and company wi-fi networks are left unprotected and can be \"sniffed out\" and hi-jacked by anyone with the correct equipment. \"BT advises that customers should change all default settings, make sure that their security settings on all equipment are configured correctly,\" said Mr Clark. \"We also advocate the use of personal firewalls to ensure that only authorised users can have access and that data cannot be intercepted.\" Dr Nobles is due to speak about wireless cybercrime at the Science Museum's Dana Centre in London on Thursday.\n",
            "label: tech\n",
            "&#163;1.8m indecency fine for Viacom  Media giant Viacom has paid out $3.5m (£1.8m) to end investigations into indecency in its US radio and TV shows.  The settlement to the Federal Communications Commission (FCC) ends a long-running saga dating back to 2001. The FCC was looking into 50 shows, including those by \"shock jock\" Howard Stern and two New York DJs. Stern recently announced he was leaving Viacom while the two DJs were sacked after their show featured a couple purporting to have sex in a church. After the church incident two years ago Viacom agreed to install audio delay equipment at its radio stations that broadcast live programming.  It also agreed to train its broadcasters and employees about indecency laws. The agreement cancels investigations into about 50 radio and television shows, said Richard Diamond, FCC deputy secretary of communications. The shows were broadcast by Viacom-owned stations across the United States. Viacom has five days to pay the $3.5m fine, according to the agreement. The payment is not related to the FCC's $550,000 (£293,000) fine levied against Viacom after the exposure of singer Janet Jackson's breast during the CBS Super Bowl halftime show in January. Viacom is contesting that fine. It is not the first time that Viacom has paid out over indecency charges. Infinity Broadcasting, which is owned by Viacom, paid cumulative fines totalling $1.7m (£907,000) in 1995 to settle FCC violations by Stern.\n",
            "label: entertainment\n",
            "Parmalat bank barred from suing  Bank of America has been banned from suing Parmalat, the food group which went bust in 2003 after an accounting scandal.  The bank - along with investors, auditors and the group's managers - wants damages for being a victim of fraud at the hands of the Italian firm. But a judge has barred Bank of America and two auditors from the case. The bank, and Italaudit - formerly the Italian arm of auditor Grant Thornton - face lawsuits and possible prosecution. A second auditor, Deloitte & Touche, has also been banned from the case. Grant Thornton - now rid of the Italian unit at the centre of the case - is still being permitted to sue, as are Consob, Italy's stock market regulator, hundreds of small investors and Parmalat's new managers. Parmalat collapsed in December 2003 after it emerged that the 4bn euros ($5.2bn; £2.8bn) it supposedly held in a Bank of American offshore account did not in fact exist.\n",
            "label: business\n",
            "Kuznetsova 'failed a drugs test'  US Open champion Svetlana Kuznetsova has tested positive for a banned drug, according to Belgian authorities.  Belgian sports minister Claude Eerdekens said that the Russian world number five tested positive for the stimulant ephedrine on 19 December. Kuznetsova was playing in an exhibition event in Charleroi at the time. Eerdekens said: \"There is a problem. Ephedrine was discovered. She remains innocent until proved guilty. She can ask for it to be tested again.\" The situation remains unclear as the tournament was not commissioned by the World Anti-Doping Agency (Wada), the International Tennis Federation (ITF) or the Women's Tennis Accosiation (WTA). The test was carried out by regional Belgian authorities and Kuznetsova has not yet been able to have a B sample tested.  Speaking at the Australian Open on Monday, before Eerdekens identified her, Kuznetsova said: \"I'm not worried. I'm not using anything to push myself. \"I have not been notified of any positive test, and I think it is unfair that it's come out the way it did.\" Eerdekens said that confirmation of the findings was sent last Friday to the player's address in Spain, as well as to the Belgian prosecutors' office and the Belgian and Russian tennis federations. He conceded Kuznetsova might have taken a medicine which contained the banned substance. \"We have simply stated a fact,\" he said. \"It is for the federation concerned to impose the disciplinary measures after a procedure that respects the defence.  \"Either the ephedrine was taken to improve her performance or it is because she took some medicine legitimately to cure an infection.\" However, Kuznetsova's naming was condemned by Russian tennis chief Shamil Tarpishchev. \"First of all, this Belgian sports minister has broken every ethical rule in the book by naming a player without any proof of wrongdoing, without any basic evidence,\" Tarpishchev said. \"We all know the basic principle in doping cases. If there is a positive sample, then they should notify the International Tennis Federation (ITF) as well as the national federation within three days,\" he said. \"This is not the case here. As of today we have not received any statement from the doping officials, nor did the ITF. \"Today I called the ITF headquarters and they told me they know nothing about it. \"If WADA (the World Anti-Doping Agency) was behind the testing, then we would also have known something by now. \"Otherwise, all these looks to me as pure fiction and fabrication of the facts.\"\n",
            "label: sport\n",
            "Henman decides to quit Davis Cup  Tim Henman has retired from Great Britain's Davis Cup team.  The 30-year-old, who made his Davis Cup debut in 1994, is now set to fully focus on the ATP Tour and on winning his first Grand Slam event. \"I've made no secret of the fact that representing Great Britain has always been a top priority for me throughout my career,\" Henman told his website. Captain Jeremy Bates has touted Alex Bogdanovic and Andrew Murray as possible replacements for the veteran. Henman added that he was available to help Britain in its bid for Davis Cup success, with the next tie against Israel in March . \"Although I won't be playing, I would still like to make myself available to both Jeremy and the LTA in the future so that I can draw upon my experience in the hope of trying to help the British players develop their full potential,\" he added. \"I've really enjoyed playing in front of the thousands of British fans both home and abroad and would like to thank every one of them for their unwavering support over the years.\" Henman leaves Davis Cup tennis with an impressive record, having won 36 of his 50 matches. Great Britain captain Jeremy Bates paid tribute to Henman's efforts over the years.  \"Tim has quite simply had a phenomenal Davis Cup career and it has been an absolute privilege to have captained the team with him in it,\" said Bates. \"Tim's magnificent record speaks for itself. While it's a great loss I completely understand and respect his decision to retire from Davis Cup and focus on the Grand Slams and Tour. \" \"Looking to the future this decision obviously marks a watershed in British Davis Cup tennis but it is also a huge opportunity for the next generation to make their mark. \"We have a host of talented players coming through and despite losing someone of Tim's calibre, I remain very optimistic about the future.\" Henman made his Davis Cup debut in 1994 against Romania in Manchester. He and partner Bates won their doubles rubber on the middle Saturday of the tie. Britain eventually lost the contest 3-2. Henman and Britain had little luck in Davis Cup matches until 1999 when they qualified for the World Group. Britain drew the USA and lost the tie when Greg Rusedski fell to Jim Courier in the deciding rubber. They made the final stages again, in 2002, but this time lost out to the might of Sweden.\n",
            "label: sport\n"
          ],
          "name": "stdout"
        }
      ]
    },
    {
      "cell_type": "markdown",
      "metadata": {
        "id": "09A0Fojnyr6O",
        "colab_type": "text"
      },
      "source": [
        "### **Cleansing data Panctuation etc.**\n",
        "\n",
        "Pemrosesan awal teks akan mencakup langkah-langkah berikut:\n",
        "* Ubah semua teks menjadi huruf kecil.\n",
        "* Ganti simbol REPLACE_BY_SPACE_RE dengan spasi dalam teks.\n",
        "* Hapus simbol yang ada di BAD_SYMBOLS_RE dari teks.\n",
        "* Hapus kata berhenti.\n",
        "* Hapus angka dalam teks."
      ]
    },
    {
      "cell_type": "code",
      "metadata": {
        "id": "rM4SkmW4xS07",
        "colab_type": "code",
        "colab": {}
      },
      "source": [
        "df = data.reset_index(drop=True)\n",
        "REPLACE_BY_SPACE_RE = re.compile('[/(){}\\[\\]\\|@,;]')\n",
        "BAD_SYMBOLS_RE = re.compile('[^0-9a-z #+_]')\n",
        "STOPWORDS = set(stopwords.words('english'))\n",
        "\n",
        "def clean_text(text):\n",
        "    text = text.lower()\n",
        "    text = REPLACE_BY_SPACE_RE.sub(' ', text)\n",
        "    text = BAD_SYMBOLS_RE.sub('', text)\n",
        "    text = ' '.join(word for word in text.split() if word not in STOPWORDS)\n",
        "    return text\n",
        "df['news_text'] = df['news_text'].apply(clean_text)"
      ],
      "execution_count": null,
      "outputs": []
    },
    {
      "cell_type": "code",
      "metadata": {
        "id": "ioUQTEh6xSw6",
        "colab_type": "code",
        "colab": {}
      },
      "source": [
        "df['news_text'] = df['news_text'].str.replace('\\d+', '')"
      ],
      "execution_count": null,
      "outputs": []
    },
    {
      "cell_type": "code",
      "metadata": {
        "colab_type": "code",
        "id": "C-jai3dmzJei",
        "colab": {}
      },
      "source": [
        "def print_plot(index):\n",
        "    example = df[df.index == index][['news_text', 'label']].values[0]\n",
        "    if len(example) > 0:\n",
        "        print(example[0])\n",
        "        print('label:', example[1])"
      ],
      "execution_count": null,
      "outputs": []
    },
    {
      "cell_type": "code",
      "metadata": {
        "colab_type": "code",
        "id": "nCQpr0iMzJet",
        "colab": {
          "base_uri": "https://localhost:8080/",
          "height": 641
        },
        "outputId": "eb3c7de8-ab67-45fe-8483-5e9f55fdbd26"
      },
      "source": [
        "for i in range(0,50,3):\n",
        "  print_plot(i)"
      ],
      "execution_count": null,
      "outputs": [
        {
          "output_type": "stream",
          "text": [
            "man utd stroll cup win wayne rooney made winning return everton manchester united cruised fa cup quarterfinals rooney received hostile reception goals half quinton fortune cristiano ronaldo silenced jeers goodison park fortune headed home  minutes ronaldo scored nigel martyn parried paul scholes freekick marcus bent missed evertons best chance roy carroll later struck missile saved feet rooneys return always going potential flashpoint involved angry exchange spectator even kickoff rooneys every touch met deafening chorus jeers crowd idolised yearold everton started brightly fortune needed alert scramble away header bent near goalline cue united take complete control supreme passing display goodison park pitch cutting fortune gave united lead  minutes rising meet ronaldos cross eight yards portuguese youngster allowed much time space hapless gary naysmith united dominated without creating many clearcut chances almost paid price making domination two minutes halftime mikel arteta played superb ball area bent played onside gabriel heintze hesitated carroll plunged fee save united almost doubled lead  minutes ronaldos low drive  yards took deflection tony hibbert martyn dived save brilliantly martyn came evertons rescue three minutes later rooneys big moment almost arrived raced clean veteran keeper outstanding form nothing martyn could united doubled lead  minutes doubled advantage scholes freekick took deflection martyn could parry ball ronaldo reacted first score easily evertons problems worsened james mcfadden limped injury may trouble ahead everton goalkeeper carroll required treatment struck head missile thrown behind goal rooneys desperate search goal return everton halted martyn injurytime outpaced stubbs martyn denied england striker manchester united coach sir alex ferguson fantastic performance us fairness think everton missed couple players got young players boy ronaldo fantastic player hes persistent never gives dont know many fouls gets wants ball hes truly fabulous player everton martyn hibbert yobo stubbs naysmith osman carsley arteta kilbane mcfadden bent subs wright pistone weir plessis vaughan manchester united carroll gary neville brown ferdinand heinze ronaldo phil neville keane scholes fortune rooney subs howard giggs smith miller spector referee r styles hampshire\n",
            "label: sport\n",
            "us desire number one u three prestigious grammy awards hit vertigo stubbornly clinging status one biggest bands world popular groups history rock several things common music must inspired appeal across generations distinctive always groundbreaking success music compelling performers charismatic intelligent enough make good decisions keep feet ground also want want biggest band ever stop wanting beatles rolling stones still rem hold onto queen catsuit u spades keep churning new album dismantle atomic bomb comes  years schoolfriends got together dublin  years joshua tree cemented place alltime rock alist may lost edginess raw youthful force propelled top lost none desire ability craft songs albums vertigo first single new album went straight uk singles chart number one knocking eminem top spot giving th top  hit challenge bigger bolder better make records whole world listen bono recently said drummer larry mullen jr echoed sentiments competitive want radio big singles dont want thought veteran band band done everything considerable powers ensure remain biggest band world according q magazine editor paul rees makes hugely determined formidable added equally determined push make music continues stand theyve constantly reinvented challenged perhaps alone rock band got better age key ingredient fact highly organised mr rees said everything right way group born mullen put appeal bandmates high school notice board attracting fellow pupils paul hewson bono vocals adam clayton bass david evans edge guitar brother dick dick evans soon dropped fourpiece known feedback hype settling u  talent contest got noticed manager paul mcguinness brilliant coarse mcguinness recently said way exactly badly struggled attract record company attention later described pretty damn average strange eerie scouts saw live released two irelandonly singles topped national charts   leading deal island debut album boy stadiumfilling anthemic sound us aim start third album war saw make breakthrough sides atlantic going number one uk  us songs like sunday bloody sunday new years day brought success image political spiritual band bono rejected cliche stage performances included flagwaving speakerclimbing drumthrowing earned reputation electric performer appearance s live aid widely seen sealing global stardom  joshua tree broke sales records saw band reach height powers hits including streets name still havent found im looking without songs took bands epic atmospheric sound simple powerful popular pinnacle end decade marked crucial point band reached top still yearned new challenges achievements came form explorations different branches rock forays electronic dance music plus wildly extravagant stage shows still trying retain mass appeal achtung baby album  followed zooropa pop corresponding stadium tours featured giant olives flying cars live phone calls white house bonos transformation alteregos fly macphisto also building parallel reputation always pleasure bandmates campaigner issues global debt aids release dismantle atomic bomb sold  million albums around world still want\n",
            "label: entertainment\n",
            "alicia keys open us super bowl rb star alicia keys open februarys super bowl singing song previously performed ray charles vicki carr keys sing america beautiful accompanied  students florida school deaf blind charles died last year attended school child  keys said excited describing charles artist admire miss respect know going touching memorable moment said first performance super bowl watched millions us  february sir paul mccartney provide halftime entertainment slot filled janet jackson last year organisers promised repeat nipplebaring incident sparked thousands complaints us tvs mostwatched broadcast national football league spokesman said comfortable show would acceptable mass audience game show watched  million people us  twenty cbsowned tv stations fined     countrys tv regulatory agency   complaints made janet jacksons wardrobe malfunction sir paul said theres nothing bigger asked perform super bowl looking forward rocking millions home stadium\n",
            "label: entertainment\n",
            "uk premiere rings musical producers behind lord rings musical abandoned plans premiere show london suitable theatre available m show make debut toronto march  found three west end theatres sufficient capacity booked musical expected london december  producer kevin wallace said would worth waiting like nothing ever seen know lot disappointed british tolkien fans hoped see show london couldnt get london theatre time added british producer world premiere stage musical coproduced canadian theatrical impresarios david ed mirvish take place torontos princess wales theatre next year toronto really wanted premiere tolkien books films hugely popular canada said mr wallace shortly signing deal canada hope anticipation excitement create even bigger buzz time open london auditions begin canada thursday five british actors may join cast deal struck canadian actors equity music show written bollywood composer ar rahman behind andrew lloyd webbers west end musical bollywood dreams conjuction finnish group varttina singing dancing hobbits music traditional mould draw ethnic traditions assured mr wallace musicals british director matthew warchus best known staging worldwide stage hit art production hybrid text physical theatre music spectacle never previously seen scale said theatre actually plunged events happen environment surrounds us middle earth new zealander peter jackson took  years bring jrr tolkiens fantasy trilogy big screen winning academy awards best film best director final film return king \n",
            "label: entertainment\n",
            "beijingers fume parking fees choking traffic jams beijing prompting officials look reorganising car parking charges car ownership risen fast recent years two half million cars citys roads trouble high status car ownership matched expensive fees indoor car parks making motorists reluctant use instead roads clogged drivers circling search cheaper outdoor option price differences indoor outdoor lots unreasonable said wang yan official beijing municipal commission development reform quoted staterun china daily newspaper mr wang charge collecting car parking fees said team would looking adjusting parking prices close gap indoor parking bays cost  outdoor ones sports fans drive matches may also find target commissions road rage wants use public transport considering jacking prices car parks near sports grounds mr wang said review team may scrap relatively cheap hourly fee near places impose higher flat rate matches indoor parking may costly always secure mr wangs team also going look complaints residents poor service received exchange compulsory monthly fees  yuan   beijing authorities decided two years ago visiting foreign dignitaries motorcades longer get motorcycle outriders blocked traffic unclogging beijings increasingly impassable streets major concern chinese authorities building dozens new roads create showcase modern city ahead  olympic games\n",
            "label: business\n",
            "ireland win eclipses refereeing errors international rugby board may step stop frustrated coaches players publicly haranguing referees things go bellyup may go whole way nflstyle video cameras field slap vociferous perpetrators knuckles irb want football scenario verbal slanging matches often overshadow game sundays explosive six nations clash lansdowne road good example ireland took another step towards first grand slam since  game exciting comes muchimproved england side enraged decisions go way one understand frustration doubt ireland rub green  victory reaction england camp may endeared sports blazers referee jonathan kaplan perfect means two decisions particular made villain piece doubt whether kaplan would pleased comments made public recourse criticism simon mcdowell touch judge heavily criticised scotland coach matt williams defeat france far england concerned queries mark cuetos first halfeffort went corner charlie hodgson kick england coach andy robinson referred similar case ravenhill january ulster playing gloucester heineken cup occasion david humphreys kicked tommy bowe touched corner try wiped cannot cameras every conceivable angle pick anomalies perhaps robinson right say referee gone upstairs josh lewsey driven irish line near end lewsey claims touched full control however one credit ireland flanker johnny oconnor cleverly scooping ball away blocking evidence touchdown rugby everything tends even  minutes referee also missed englands danny grewcock taking ronan ogara ball allow martin corry sunday stroll line standout moments classic game two old foes many one take away brian odriscolls winning try wellconceived come charlie hodgsons brilliant kicking display another highlight ronan ogaras tremendous ability control game also crucial component defining moments came ireland cosh final  minutes two outstanding pieces defensive play denied england allowed ireland hold first denis hickies brilliant double tackle righthand corner gobbled cueto another hodgson crossfield kick regained feet stop lewsey scoring certain try irelands secondrow colossus paul oconnell equally superb england turned ireland one way defence cordon slowly disintegrating england prop matt stevens ran full steam suck tacklers unfortunately ran oconnell hit hard hard wrestled ball away crucial turnover spoke volumes irelands backfoot display defensive coach mike ford taking bow end win game like showed ireland moved forward may tries win games defence wins championships\n",
            "label: sport\n",
            "germany calls eu reform german chancellor gerhard schroeder called radical reform eus stability pact grant countries flexibility budget deficits mr schroeder said existing fiscal rules loosened allow countries run deficits current  limit met certain criteria writing financial times mr schroeder also said heads government greater say reforms changes pact due agreed economic summit march current eu rules limit size eurozone countrys deficit  gdp countries exceed threshold liable heavy fines european commission although several countries including germany breached rules consistently since  without facing punishment european commission acknowledged last month would impose sanctions countries break rules mr schroeder staunch supporter pact set s said exemptions needed take account cost domestic reform programmes changing economic conditions stability pact work better intervention european institutions budgetary sovereignty national parliaments permitted limited conditions wrote competences respected member states willing align policies consistently economic goals eu deficits allowed rise  mr schroeder argued countries meet several mandatory criteria include governments adopting costly structural reforms countries suffering economic stagnation nations shouldering special economic burdens proposed changes would make harder european commission launch infringement action state breaches pacts rules mr schroeders intervention comes ahead meeting  eurozone finance ministers monday discuss pact issue also discussed tuesdays ecofin meeting finance ministers  eu members mr schroeder also called heads government play larger role shaping reforms pact number eu finance ministers believed favour limited changes eurozones rules\n",
            "label: business\n",
            "slimmer playstation triple sales sony playstation s slimmer shape proved popular uk gamers   sold first week sale sales tripled since launch outstripping microsofts xbox said market analysts charttrack numbers also boosted release psonly game grand theft auto san andreas title broke uk sales record video games first weekend release latest figures suggest sold   copies obviously encouraging sony microsoft briefly outsold last week john houlihan editor computerandvideogamescom told bbc news halo  xbox next week really headtohead contest xbox although xbox sales last week also climbed ps sales double figures mean sony reaching seven million barrier uk sales console edinburghbased developer rockstar behind gta titles seen san andreas pull estimated m gross revenues weekend comparison blockbuster films like harry potter prisoner azkaban took m first three days uk box office lord rings return king took nearly m opening weekend although games titles four five times expensive cinema tickets gangsterthemed gta san andreas sequel grand theft auto vice city previously held record fastestselling video game ever xbox game halo  released  november uk also widely tipped one bestselling games year original title universal acclaim  sold four million copies mr houlihan added sony done well ps definitely helped release san andreas coincided slimline ps hitting shelves runup christmas huge battlefield games consoles titles microsofts xbox winning race last week sales sales figures also suggest may largely adult audience driving demand since gta san andreas  certificate sony microsoft reduced console prices recently preparing way launches next generation consoles  hit crucial price points around  really open new consoles new audience plus release two really important games terms development also driving sales said mr houlihan\n",
            "label: tech\n",
            "mixed signals french economy french economy picked speed end  official figures show still looks set fallen short governments hopes according state statistics body insee growth three months december seasonallyadjusted  ahead  forecast confirmed would best quarterly showing since early  leaves gdp  full year short  french government predicted despite apparent shortfall annual economic growth good quarterly figures socalled flash estimate mark continuing trend improving indicators health french economy government reiterating  target  european central bank making positive noises nation eurozone whole also friday frances industrial output december released showing  growth numbers good said david naude economist deutsche bank send positive signal rebound output open way continuation trend new year service sector activity improved january hitting sevenmonth high unemployment remains high \n",
            "label: business\n",
            "hollywood sue net film pirates us movie industry launched legal action sue people facilitate illegal film downloading motion picture association america wants stop people using program bittorrent swap movies industry targeting people run websites provide information internet links movies copied filmed cinemas  server operators targeted actions launched us uk mpaa added suits filed users filesharing programs bittorrent edonkey directconnect united states united kingdom france finland netherlands mpaa said bittorrent users download movies following link files found websites called trackers unlike peertopeer programs bittorrent works sharing file could anything legitimate digital photo copied movie among multiple users time movie industry hopes suing people run trackers cut bittorrent users illegal movies source last month major film studios started legal action  individuals swapping films online growth broadband made quicker people download movies industry fears take action could suffer downturn music industry\n",
            "label: tech\n",
            "parmalat founder offers apology founder former boss parmalat apologised investors lost money result italian dairy firms collapse calisto tanzi said would cooperate fully prosecutors investigating background one europes largest financial scandals parmalat placed bankruptcy protection  bn euro black hole found accounts   people lost money following firms collapse mr tanzi  issued statement lawyer five hours questioning prosecutors parma  january prosecutors seeking indictments mr tanzi  others including several members family former parmalat chief financial officer fausto tonna alleged manipulation stock market prices making misleading statements accountants italys financial watchdog two former parmalat auditors stand trial later month role firms collapse apologise suffered much damage result schemes make dream industrial project come true mr tanzis statement said duty collaborate fully prosecutors reconstruct causes parmalats sudden default responsible mr tanzi spent several months jail wake parmalats collapse kept house arrest last september parmalat run state appointed administrator enrico bondi launched lawsuits  banks effort recover money bankrupt company shareholders alleged companies aware true state parmalats finances continued lend money company companies insist victims fraudulent bookkeeping parmalat declared insolvent emerged  billion euros bn bn supposedly held offshore account fact exist firms demise sent shock waves italy portfolio topselling food brands position owner leading football club parma turned household name\n",
            "label: business\n",
            "us blogger fired airline us airline attendant suspended inappropriate images blog web diary says fired ellen simonetti known queen sky wrote anonymous semifictional account life sky suspended delta september statement said initiating legal action airline wrongful termination delta spokesperson confirmed wednesday ms simonetti longer employee delta repeatedly declined elaborate calls internal employee matters spokesperson reiterated position wednesday confirming ms simonetti longer company spokesperson also confirmed clear rules attached unauthorised use delta branding including uniforms ms simonetti announced blog fired  november said official statement result suspension subsequent termination without cause delta airlines moving forward filing discrimination complaint federal government eeoc us equal employment opportunity commission added also hired texasbased law firm initiate legal action wrongful termination defamation character lost future wages ms simonetti told bbc news website received warning explanation suspended  september queen sky received lot support advice global blogging community since news suspension brought light bbc news website others story highlighted concerns amongst growing blogging community conflicts interest employment law free speech personal websites blog started january way getting mothers death contains mix fictional nonfictional accounts queen sky developed months character right according ms simonetti postings made fictional names cities companies mentioned protect anonymity postings contained images uniform  images one showed ms simonettis flight wings removed soon informed suspension never meant something harm company dont understand think harm ms simonetti said legal expert us speculated delta might concerned fictional content blog may linked back airline images posted delta hit recently pressures rising fuel costs fierce competition said needs cut     jobs reduce costs bn bn year analysts warned recently airline might seek chapter  bankruptcy prevention last week struck bn costcutting deal pilots could save bankruptcy deal would see pilots accept  pay cut return right buy  million delta shares unions said monday negotiated deal defer m debt due next year  airline also said agreed terms m loan american express\n",
            "label: tech\n",
            "evil twin fear wireless net people using wireless highspeed net wifi warned fake hotspots access points latest threat nicknamed evil twins pose real hotspots actually unauthorised base stations say cranfield university experts logged onto evil twin sensitive data intercepted wifi becoming popular devices come wireless capability london leads global wifi hotspots league   number hotspots expected reach    according analysts users need wary using wifi enabled laptops portable devices order conduct financial transactions anything sensitive personal nature said professor brian collins head information systems cranfield university users also protect ensuring wifi device security measures activated added bt openzone operates vast proportion public hotspots uk told bbc news website made every effort make wifi secure naturally people may security concerns said chris clark chief executive bts wireless broadband wifi networks less vulnerable means accessing internet like broadband dialup said bt openzone well others sophisticated encryption start login process service hotspot means users personal information data logon usernames passwords protected secure said mr clark vast majority cases base stations straight box manufacturers automatically set least secure mode possible said dr nobles cybercriminals try glean personal information using scam jam connections legitimate base station sending stronger signal near wireless client anyone right gear find real hotspot substitute evil twin cybercriminals dont clever carry attack said dr phil nobles wireless net cybercrime expert cranfield wireless networks based radio signals easily detected unauthorised users tuning frequency although wifi increasing popularity people want use highspeed net move fears secure companies reluctant use large numbers fears security wireless network protected provide backdoor companys computer system public wifi hotspots offered companies like bt openzone cloud accessible users sign pay use many home company wifi networks left unprotected sniffed hijacked anyone correct equipment bt advises customers change default settings make sure security settings equipment configured correctly said mr clark also advocate use personal firewalls ensure authorised users access data cannot intercepted dr nobles due speak wireless cybercrime science museums dana centre london thursday\n",
            "label: tech\n",
            "# m indecency fine viacom media giant viacom paid m m end investigations indecency us radio tv shows settlement federal communications commission fcc ends longrunning saga dating back  fcc looking  shows including shock jock howard stern two new york djs stern recently announced leaving viacom two djs sacked show featured couple purporting sex church church incident two years ago viacom agreed install audio delay equipment radio stations broadcast live programming also agreed train broadcasters employees indecency laws agreement cancels investigations  radio television shows said richard diamond fcc deputy secretary communications shows broadcast viacomowned stations across united states viacom five days pay m fine according agreement payment related fccs     fine levied viacom exposure singer janet jacksons breast cbs super bowl halftime show january viacom contesting fine first time viacom paid indecency charges infinity broadcasting owned viacom paid cumulative fines totalling m    settle fcc violations stern\n",
            "label: entertainment\n",
            "parmalat bank barred suing bank america banned suing parmalat food group went bust  accounting scandal bank along investors auditors groups managers wants damages victim fraud hands italian firm judge barred bank america two auditors case bank italaudit formerly italian arm auditor grant thornton face lawsuits possible prosecution second auditor deloitte touche also banned case grant thornton rid italian unit centre case still permitted sue consob italys stock market regulator hundreds small investors parmalats new managers parmalat collapsed december  emerged bn euros bn bn supposedly held bank american offshore account fact exist\n",
            "label: business\n",
            "kuznetsova failed drugs test us open champion svetlana kuznetsova tested positive banned drug according belgian authorities belgian sports minister claude eerdekens said russian world number five tested positive stimulant ephedrine  december kuznetsova playing exhibition event charleroi time eerdekens said problem ephedrine discovered remains innocent proved guilty ask tested situation remains unclear tournament commissioned world antidoping agency wada international tennis federation itf womens tennis accosiation wta test carried regional belgian authorities kuznetsova yet able b sample tested speaking australian open monday eerdekens identified kuznetsova said im worried im using anything push notified positive test think unfair come way eerdekens said confirmation findings sent last friday players address spain well belgian prosecutors office belgian russian tennis federations conceded kuznetsova might taken medicine contained banned substance simply stated fact said federation concerned impose disciplinary measures procedure respects defence either ephedrine taken improve performance took medicine legitimately cure infection however kuznetsovas naming condemned russian tennis chief shamil tarpishchev first belgian sports minister broken every ethical rule book naming player without proof wrongdoing without basic evidence tarpishchev said know basic principle doping cases positive sample notify international tennis federation itf well national federation within three days said case today received statement doping officials itf today called itf headquarters told know nothing wada world antidoping agency behind testing would also known something otherwise looks pure fiction fabrication facts\n",
            "label: sport\n",
            "henman decides quit davis cup tim henman retired great britains davis cup team yearold made davis cup debut  set fully focus atp tour winning first grand slam event ive made secret fact representing great britain always top priority throughout career henman told website captain jeremy bates touted alex bogdanovic andrew murray possible replacements veteran henman added available help britain bid davis cup success next tie israel march although wont playing would still like make available jeremy lta future draw upon experience hope trying help british players develop full potential added ive really enjoyed playing front thousands british fans home abroad would like thank every one unwavering support years henman leaves davis cup tennis impressive record   matches great britain captain jeremy bates paid tribute henmans efforts years tim quite simply phenomenal davis cup career absolute privilege captained team said bates tims magnificent record speaks great loss completely understand respect decision retire davis cup focus grand slams tour looking future decision obviously marks watershed british davis cup tennis also huge opportunity next generation make mark host talented players coming despite losing someone tims calibre remain optimistic future henman made davis cup debut  romania manchester partner bates doubles rubber middle saturday tie britain eventually lost contest  henman britain little luck davis cup matches  qualified world group britain drew usa lost tie greg rusedski fell jim courier deciding rubber made final stages  time lost might sweden\n",
            "label: sport\n"
          ],
          "name": "stdout"
        }
      ]
    },
    {
      "cell_type": "markdown",
      "metadata": {
        "id": "NpBZZ9_qzYR8",
        "colab_type": "text"
      },
      "source": [
        "### **LSTM Modeling**\n",
        "\n",
        "* Vektorisasi teks keluhan konsumen, dengan mengubah setiap teks menjadi urutan bilangan bulat atau vektor.\n",
        "* Batasi kumpulan data hingga 5.0000 kata teratas.\n",
        "* Atur jumlah kata maksimal di setiap keluhan menjadi 250."
      ]
    },
    {
      "cell_type": "code",
      "metadata": {
        "id": "2Q_2YbzGz_dC",
        "colab_type": "code",
        "colab": {
          "base_uri": "https://localhost:8080/",
          "height": 282
        },
        "outputId": "8bf62f00-a7bf-491c-a84c-7b78f090539e"
      },
      "source": [
        "df['count'] = df['news_text'].str.findall(r'(\\w+)').str.len()\n",
        "df.describe()"
      ],
      "execution_count": null,
      "outputs": [
        {
          "output_type": "execute_result",
          "data": {
            "text/html": [
              "<div>\n",
              "<style scoped>\n",
              "    .dataframe tbody tr th:only-of-type {\n",
              "        vertical-align: middle;\n",
              "    }\n",
              "\n",
              "    .dataframe tbody tr th {\n",
              "        vertical-align: top;\n",
              "    }\n",
              "\n",
              "    .dataframe thead th {\n",
              "        text-align: right;\n",
              "    }\n",
              "</style>\n",
              "<table border=\"1\" class=\"dataframe\">\n",
              "  <thead>\n",
              "    <tr style=\"text-align: right;\">\n",
              "      <th></th>\n",
              "      <th>count</th>\n",
              "    </tr>\n",
              "  </thead>\n",
              "  <tbody>\n",
              "    <tr>\n",
              "      <th>count</th>\n",
              "      <td>2225.000000</td>\n",
              "    </tr>\n",
              "    <tr>\n",
              "      <th>mean</th>\n",
              "      <td>217.544270</td>\n",
              "    </tr>\n",
              "    <tr>\n",
              "      <th>std</th>\n",
              "      <td>125.838515</td>\n",
              "    </tr>\n",
              "    <tr>\n",
              "      <th>min</th>\n",
              "      <td>48.000000</td>\n",
              "    </tr>\n",
              "    <tr>\n",
              "      <th>25%</th>\n",
              "      <td>141.000000</td>\n",
              "    </tr>\n",
              "    <tr>\n",
              "      <th>50%</th>\n",
              "      <td>190.000000</td>\n",
              "    </tr>\n",
              "    <tr>\n",
              "      <th>75%</th>\n",
              "      <td>268.000000</td>\n",
              "    </tr>\n",
              "    <tr>\n",
              "      <th>max</th>\n",
              "      <td>2216.000000</td>\n",
              "    </tr>\n",
              "  </tbody>\n",
              "</table>\n",
              "</div>"
            ],
            "text/plain": [
              "             count\n",
              "count  2225.000000\n",
              "mean    217.544270\n",
              "std     125.838515\n",
              "min      48.000000\n",
              "25%     141.000000\n",
              "50%     190.000000\n",
              "75%     268.000000\n",
              "max    2216.000000"
            ]
          },
          "metadata": {
            "tags": []
          },
          "execution_count": 20
        }
      ]
    },
    {
      "cell_type": "code",
      "metadata": {
        "id": "CjyA1tNj2Eup",
        "colab_type": "code",
        "colab": {
          "base_uri": "https://localhost:8080/",
          "height": 283
        },
        "outputId": "cb1c0de8-df93-4c14-dcb7-97bbb58bddcb"
      },
      "source": [
        "df['count'].plot(kind='hist')"
      ],
      "execution_count": null,
      "outputs": [
        {
          "output_type": "execute_result",
          "data": {
            "text/plain": [
              "<matplotlib.axes._subplots.AxesSubplot at 0x7f457184a518>"
            ]
          },
          "metadata": {
            "tags": []
          },
          "execution_count": 21
        },
        {
          "output_type": "display_data",
          "data": {
            "image/png": "[encoded data removed]",
            "text/plain": [
              "<Figure size 432x288 with 1 Axes>"
            ]
          },
          "metadata": {
            "tags": [],
            "needs_background": "light"
          }
        }
      ]
    },
    {
      "cell_type": "code",
      "metadata": {
        "id": "b1KBpfst09sR",
        "colab_type": "code",
        "colab": {}
      },
      "source": [
        "df = df.drop(columns=\"count\")"
      ],
      "execution_count": null,
      "outputs": []
    },
    {
      "cell_type": "markdown",
      "metadata": {
        "id": "t8XcqQwRu_js",
        "colab_type": "text"
      },
      "source": [
        "### **Tokenizer definition**"
      ]
    },
    {
      "cell_type": "code",
      "metadata": {
        "id": "82d8Oq1wzSvB",
        "colab_type": "code",
        "colab": {
          "base_uri": "https://localhost:8080/",
          "height": 35
        },
        "outputId": "065ac487-21e5-4ccb-892f-5213d759416a"
      },
      "source": [
        "MAX_NB_WORDS = 50000\n",
        "MAX_SEQUENCE_LENGTH = 600\n",
        "EMBEDDING_DIM = 100\n",
        "\n",
        "tokenizer = Tokenizer(num_words=MAX_NB_WORDS, filters='!\"#$%&()*+,-./:;<=>?@[\\]^_`{|}~', lower=True)\n",
        "tokenizer.fit_on_texts(df['news_text'].values)\n",
        "word_index = tokenizer.word_index\n",
        "print('Found %s unique tokens.' % len(word_index))"
      ],
      "execution_count": null,
      "outputs": [
        {
          "output_type": "stream",
          "text": [
            "Found 31363 unique tokens.\n"
          ],
          "name": "stdout"
        }
      ]
    },
    {
      "cell_type": "code",
      "metadata": {
        "id": "P_B-Cgii3S4E",
        "colab_type": "code",
        "colab": {
          "base_uri": "https://localhost:8080/",
          "height": 35
        },
        "outputId": "c349e1fd-2c5f-4815-8a1e-a13b84943c91"
      },
      "source": [
        "X = tokenizer.texts_to_sequences(df['news_text'].values)\n",
        "X = pad_sequences(X, maxlen=MAX_SEQUENCE_LENGTH)\n",
        "print('Shape of data tensor:', X.shape)"
      ],
      "execution_count": null,
      "outputs": [
        {
          "output_type": "stream",
          "text": [
            "Shape of data tensor: (2225, 600)\n"
          ],
          "name": "stdout"
        }
      ]
    },
    {
      "cell_type": "code",
      "metadata": {
        "id": "oADtPP4N3dqz",
        "colab_type": "code",
        "colab": {
          "base_uri": "https://localhost:8080/",
          "height": 35
        },
        "outputId": "8d83dd7f-9c64-45a2-b90d-767990774ae3"
      },
      "source": [
        "Y = pd.get_dummies(df['label']).values\n",
        "print('Shape of label tensor:', Y.shape)"
      ],
      "execution_count": null,
      "outputs": [
        {
          "output_type": "stream",
          "text": [
            "Shape of label tensor: (2225, 5)\n"
          ],
          "name": "stdout"
        }
      ]
    },
    {
      "cell_type": "markdown",
      "metadata": {
        "id": "AcVG127SvIKY",
        "colab_type": "text"
      },
      "source": [
        "### **Splitting dataset**"
      ]
    },
    {
      "cell_type": "code",
      "metadata": {
        "id": "g7AVrwnO3sRo",
        "colab_type": "code",
        "colab": {
          "base_uri": "https://localhost:8080/",
          "height": 52
        },
        "outputId": "8a9358c8-c9c4-444d-bec4-d56da723543a"
      },
      "source": [
        "X_train, X_test, Y_train, Y_test = train_test_split(X,Y, test_size = 0.2, random_state = 42)\n",
        "print(X_train.shape,Y_train.shape)\n",
        "print(X_test.shape,Y_test.shape)"
      ],
      "execution_count": null,
      "outputs": [
        {
          "output_type": "stream",
          "text": [
            "(1780, 600) (1780, 5)\n",
            "(445, 600) (445, 5)\n"
          ],
          "name": "stdout"
        }
      ]
    },
    {
      "cell_type": "markdown",
      "metadata": {
        "id": "kw6H3-xBvLZd",
        "colab_type": "text"
      },
      "source": [
        "### **Build model**"
      ]
    },
    {
      "cell_type": "code",
      "metadata": {
        "id": "q00E3OHI5XD1",
        "colab_type": "code",
        "colab": {
          "base_uri": "https://localhost:8080/",
          "height": 35
        },
        "outputId": "fc9b60a0-f30f-4f79-feac-f02025fc7213"
      },
      "source": [
        "model = Sequential()\n",
        "model.add(Embedding(MAX_NB_WORDS, EMBEDDING_DIM, input_length=X.shape[1]))\n",
        "model.add(SpatialDropout1D(0.2))\n",
        "model.add(LSTM(100, dropout=0.5, recurrent_dropout=0.5))\n",
        "model.add(Dense(256, activation='relu'))\n",
        "model.add(Dense(128, activation='relu'))\n",
        "model.add(Dropout(0.5))\n",
        "model.add(Dense(64, activation='relu'))\n",
        "model.add(Dense(32, activation='relu'))\n",
        "model.add(Dropout(0.5))\n",
        "model.add(BatchNormalization())\n",
        "model.add(Dense(5, activation='softmax'))\n",
        "model.compile(loss='categorical_crossentropy', optimizer='adam', metrics=['accuracy'])"
      ],
      "execution_count": null,
      "outputs": [
        {
          "output_type": "stream",
          "text": [
            "WARNING:tensorflow:Layer lstm will not use cuDNN kernel since it doesn't meet the cuDNN kernel criteria. It will use generic GPU kernel as fallback when running on GPU\n"
          ],
          "name": "stdout"
        }
      ]
    },
    {
      "cell_type": "code",
      "metadata": {
        "id": "9v6ACkvkloJK",
        "colab_type": "code",
        "colab": {
          "base_uri": "https://localhost:8080/",
          "height": 550
        },
        "outputId": "ff3a8385-a18d-49e0-bea3-e01d06edebb3"
      },
      "source": [
        "model.summary()"
      ],
      "execution_count": null,
      "outputs": [
        {
          "output_type": "stream",
          "text": [
            "Model: \"sequential\"\n",
            "_________________________________________________________________\n",
            "Layer (type)                 Output Shape              Param #   \n",
            "=================================================================\n",
            "embedding (Embedding)        (None, 600, 100)          5000000   \n",
            "_________________________________________________________________\n",
            "spatial_dropout1d (SpatialDr (None, 600, 100)          0         \n",
            "_________________________________________________________________\n",
            "lstm (LSTM)                  (None, 100)               80400     \n",
            "_________________________________________________________________\n",
            "dense (Dense)                (None, 256)               25856     \n",
            "_________________________________________________________________\n",
            "dense_1 (Dense)              (None, 128)               32896     \n",
            "_________________________________________________________________\n",
            "dropout (Dropout)            (None, 128)               0         \n",
            "_________________________________________________________________\n",
            "dense_2 (Dense)              (None, 64)                8256      \n",
            "_________________________________________________________________\n",
            "dense_3 (Dense)              (None, 32)                2080      \n",
            "_________________________________________________________________\n",
            "dropout_1 (Dropout)          (None, 32)                0         \n",
            "_________________________________________________________________\n",
            "batch_normalization (BatchNo (None, 32)                128       \n",
            "_________________________________________________________________\n",
            "dense_4 (Dense)              (None, 5)                 165       \n",
            "=================================================================\n",
            "Total params: 5,149,781\n",
            "Trainable params: 5,149,717\n",
            "Non-trainable params: 64\n",
            "_________________________________________________________________\n"
          ],
          "name": "stdout"
        }
      ]
    },
    {
      "cell_type": "markdown",
      "metadata": {
        "id": "wJNy6L8QvOzv",
        "colab_type": "text"
      },
      "source": [
        "### **EarlyStopping**"
      ]
    },
    {
      "cell_type": "code",
      "metadata": {
        "id": "mZVQU49CvVrG",
        "colab_type": "code",
        "colab": {}
      },
      "source": [
        "es = EarlyStopping(monitor=\"val_loss\",\n",
        "                   min_delta=0.0001,\n",
        "                   patience=3,\n",
        "                   verbose=1,\n",
        "                   mode=\"auto\",\n",
        "                   baseline=None,\n",
        "                   restore_best_weights=True,\n",
        "                   )"
      ],
      "execution_count": null,
      "outputs": []
    },
    {
      "cell_type": "code",
      "metadata": {
        "id": "MfRD3qCT57y6",
        "colab_type": "code",
        "colab": {
          "base_uri": "https://localhost:8080/",
          "height": 835
        },
        "outputId": "06b96e9e-bbed-42cc-b25d-4768fff83682"
      },
      "source": [
        "import time\n",
        "start_time = time.time() \n",
        "history = model.fit(X_train, Y_train, \n",
        "                    epochs=50, batch_size=64,\n",
        "                    steps_per_epoch=16,\n",
        "                    validation_data=(X_test, Y_test),\n",
        "                    callbacks=es)\n",
        "\n",
        "end_time = time.time() "
      ],
      "execution_count": null,
      "outputs": [
        {
          "output_type": "stream",
          "text": [
            "Epoch 1/50\n",
            "16/16 [==============================] - 35s 2s/step - loss: 1.6007 - accuracy: 0.2461 - val_loss: 1.5981 - val_accuracy: 0.2382\n",
            "Epoch 2/50\n",
            "16/16 [==============================] - 35s 2s/step - loss: 1.5708 - accuracy: 0.2757 - val_loss: 1.5916 - val_accuracy: 0.2427\n",
            "Epoch 3/50\n",
            "16/16 [==============================] - 36s 2s/step - loss: 1.4622 - accuracy: 0.3545 - val_loss: 1.5777 - val_accuracy: 0.2539\n",
            "Epoch 4/50\n",
            "16/16 [==============================] - 36s 2s/step - loss: 1.3449 - accuracy: 0.4318 - val_loss: 1.5164 - val_accuracy: 0.4629\n",
            "Epoch 5/50\n",
            "16/16 [==============================] - 36s 2s/step - loss: 1.0783 - accuracy: 0.5635 - val_loss: 1.3689 - val_accuracy: 0.6202\n",
            "Epoch 6/50\n",
            "16/16 [==============================] - 36s 2s/step - loss: 0.9773 - accuracy: 0.5968 - val_loss: 0.9996 - val_accuracy: 0.5640\n",
            "Epoch 7/50\n",
            "16/16 [==============================] - 35s 2s/step - loss: 0.8533 - accuracy: 0.6690 - val_loss: 1.0081 - val_accuracy: 0.6876\n",
            "Epoch 8/50\n",
            "16/16 [==============================] - 35s 2s/step - loss: 0.7230 - accuracy: 0.7246 - val_loss: 0.9572 - val_accuracy: 0.6854\n",
            "Epoch 9/50\n",
            "16/16 [==============================] - 36s 2s/step - loss: 0.6371 - accuracy: 0.7688 - val_loss: 0.7079 - val_accuracy: 0.7528\n",
            "Epoch 10/50\n",
            "16/16 [==============================] - 35s 2s/step - loss: 0.5671 - accuracy: 0.7881 - val_loss: 0.6750 - val_accuracy: 0.7843\n",
            "Epoch 11/50\n",
            "16/16 [==============================] - 35s 2s/step - loss: 0.4839 - accuracy: 0.8340 - val_loss: 0.6595 - val_accuracy: 0.8180\n",
            "Epoch 12/50\n",
            "16/16 [==============================] - 35s 2s/step - loss: 0.4593 - accuracy: 0.8496 - val_loss: 0.5608 - val_accuracy: 0.8539\n",
            "Epoch 13/50\n",
            "16/16 [==============================] - 35s 2s/step - loss: 0.4351 - accuracy: 0.8646 - val_loss: 0.5850 - val_accuracy: 0.8607\n",
            "Epoch 14/50\n",
            "16/16 [==============================] - 35s 2s/step - loss: 0.3810 - accuracy: 0.8933 - val_loss: 0.5461 - val_accuracy: 0.8629\n",
            "Epoch 15/50\n",
            "16/16 [==============================] - 36s 2s/step - loss: 0.3347 - accuracy: 0.9072 - val_loss: 0.5053 - val_accuracy: 0.8517\n",
            "Epoch 16/50\n",
            "16/16 [==============================] - 36s 2s/step - loss: 0.2765 - accuracy: 0.9476 - val_loss: 0.4319 - val_accuracy: 0.8697\n",
            "Epoch 17/50\n",
            "16/16 [==============================] - 36s 2s/step - loss: 0.2980 - accuracy: 0.9258 - val_loss: 0.4645 - val_accuracy: 0.8449\n",
            "Epoch 18/50\n",
            "16/16 [==============================] - 36s 2s/step - loss: 0.2211 - accuracy: 0.9644 - val_loss: 0.3504 - val_accuracy: 0.9034\n",
            "Epoch 19/50\n",
            "16/16 [==============================] - 35s 2s/step - loss: 0.1964 - accuracy: 0.9639 - val_loss: 0.3192 - val_accuracy: 0.9101\n",
            "Epoch 20/50\n",
            "16/16 [==============================] - 35s 2s/step - loss: 0.2385 - accuracy: 0.9447 - val_loss: 0.4000 - val_accuracy: 0.8719\n",
            "Epoch 21/50\n",
            "16/16 [==============================] - 35s 2s/step - loss: 0.2120 - accuracy: 0.9575 - val_loss: 0.3588 - val_accuracy: 0.8854\n",
            "Epoch 22/50\n",
            "16/16 [==============================] - ETA: 0s - loss: 0.1770 - accuracy: 0.9609Restoring model weights from the end of the best epoch.\n",
            "16/16 [==============================] - 36s 2s/step - loss: 0.1770 - accuracy: 0.9609 - val_loss: 0.3218 - val_accuracy: 0.8989\n",
            "Epoch 00022: early stopping\n"
          ],
          "name": "stdout"
        }
      ]
    },
    {
      "cell_type": "markdown",
      "metadata": {
        "id": "Jmb7eSI4uSpP",
        "colab_type": "text"
      },
      "source": [
        "### **Model training time**"
      ]
    },
    {
      "cell_type": "code",
      "metadata": {
        "id": "wYWHeE5JTvyS",
        "colab_type": "code",
        "colab": {
          "base_uri": "https://localhost:8080/",
          "height": 35
        },
        "outputId": "8cced0ad-1719-4948-a87c-dece322de0ce"
      },
      "source": [
        "print(\"Running time : \", end_time - start_time)"
      ],
      "execution_count": null,
      "outputs": [
        {
          "output_type": "stream",
          "text": [
            "Running time :  831.2980365753174\n"
          ],
          "name": "stdout"
        }
      ]
    },
    {
      "cell_type": "code",
      "metadata": {
        "id": "n2RLhNP8VhVQ",
        "colab_type": "code",
        "colab": {}
      },
      "source": [
        "from sklearn import metrics\n",
        "from sklearn.metrics import  precision_recall_curve, f1_score, multilabel_confusion_matrix\n",
        "from sklearn.metrics import classification_report, balanced_accuracy_score, auc\n",
        "from sklearn.metrics import precision_score, recall_score, accuracy_score\n",
        "from sklearn.metrics import label_ranking_average_precision_score, coverage_error\n",
        "from sklearn.metrics import label_ranking_loss"
      ],
      "execution_count": null,
      "outputs": []
    },
    {
      "cell_type": "markdown",
      "metadata": {
        "id": "CgIYX1EguMzd",
        "colab_type": "text"
      },
      "source": [
        "### **Accuracy and Loss**"
      ]
    },
    {
      "cell_type": "code",
      "metadata": {
        "id": "6n3LP6fwr4Og",
        "colab_type": "code",
        "colab": {
          "base_uri": "https://localhost:8080/",
          "height": 88
        },
        "outputId": "9d9fb4a9-cb00-473d-d872-d6b52b0cfffc"
      },
      "source": [
        "accr = model.evaluate(X_test,Y_test)\n",
        "print('Validation set\\n  Loss: {:0.3f}\\n  Accuracy: {:0.3f}'.format(accr[0],accr[1]))"
      ],
      "execution_count": null,
      "outputs": [
        {
          "output_type": "stream",
          "text": [
            "14/14 [==============================] - 2s 137ms/step - loss: 0.3192 - accuracy: 0.9101\n",
            "Validation set\n",
            "  Loss: 0.319\n",
            "  Accuracy: 0.910\n"
          ],
          "name": "stdout"
        }
      ]
    },
    {
      "cell_type": "code",
      "metadata": {
        "id": "UqwCXM0Zr7iM",
        "colab_type": "code",
        "colab": {
          "base_uri": "https://localhost:8080/",
          "height": 88
        },
        "outputId": "8c282448-87df-431f-c97d-01e232b1ebfe"
      },
      "source": [
        "accr = model.evaluate(X_train,Y_train)\n",
        "print('Train set\\n  Loss: {:0.3f}\\n  Accuracy: {:0.3f}'.format(accr[0],accr[1]))"
      ],
      "execution_count": null,
      "outputs": [
        {
          "output_type": "stream",
          "text": [
            "56/56 [==============================] - 9s 155ms/step - loss: 0.0778 - accuracy: 0.9983\n",
            "Train set\n",
            "  Loss: 0.078\n",
            "  Accuracy: 0.998\n"
          ],
          "name": "stdout"
        }
      ]
    },
    {
      "cell_type": "code",
      "metadata": {
        "id": "y7NSnY1YU_-F",
        "colab_type": "code",
        "colab": {}
      },
      "source": [
        "test_pred = model.predict(X_test)\n",
        "train_pred = model.predict(X_train)"
      ],
      "execution_count": null,
      "outputs": []
    },
    {
      "cell_type": "markdown",
      "metadata": {
        "id": "SYCJIbLZt3Fn",
        "colab_type": "text"
      },
      "source": [
        "### **Precision rangking score**"
      ]
    },
    {
      "cell_type": "code",
      "metadata": {
        "id": "u7mDNCgOXGTr",
        "colab_type": "code",
        "colab": {
          "base_uri": "https://localhost:8080/",
          "height": 35
        },
        "outputId": "559fc8e4-794a-4978-db56-c78e20eddc5f"
      },
      "source": [
        "label_ranking_average_precision_score(Y_test, test_pred)"
      ],
      "execution_count": null,
      "outputs": [
        {
          "output_type": "execute_result",
          "data": {
            "text/plain": [
              "0.9476029962546815"
            ]
          },
          "metadata": {
            "tags": []
          },
          "execution_count": 41
        }
      ]
    },
    {
      "cell_type": "code",
      "metadata": {
        "id": "N-hgNy0GXc5V",
        "colab_type": "code",
        "colab": {
          "base_uri": "https://localhost:8080/",
          "height": 35
        },
        "outputId": "0c242126-e071-40d2-889b-6fdfeb189bcc"
      },
      "source": [
        "label_ranking_average_precision_score(Y_train, train_pred)"
      ],
      "execution_count": null,
      "outputs": [
        {
          "output_type": "execute_result",
          "data": {
            "text/plain": [
              "0.9991573033707866"
            ]
          },
          "metadata": {
            "tags": []
          },
          "execution_count": 42
        }
      ]
    },
    {
      "cell_type": "markdown",
      "metadata": {
        "id": "hXpZh0ixuBOB",
        "colab_type": "text"
      },
      "source": [
        "### **Label rangking loss**"
      ]
    },
    {
      "cell_type": "code",
      "metadata": {
        "id": "7v0be3dJX3O6",
        "colab_type": "code",
        "colab": {
          "base_uri": "https://localhost:8080/",
          "height": 35
        },
        "outputId": "65076d5b-4e0d-42cc-a1b0-d1d379732c39"
      },
      "source": [
        "label_ranking_loss(Y_test, test_pred)"
      ],
      "execution_count": null,
      "outputs": [
        {
          "output_type": "execute_result",
          "data": {
            "text/plain": [
              "0.03651685393258427"
            ]
          },
          "metadata": {
            "tags": []
          },
          "execution_count": 45
        }
      ]
    },
    {
      "cell_type": "code",
      "metadata": {
        "id": "DazGcQwQX8AT",
        "colab_type": "code",
        "colab": {
          "base_uri": "https://localhost:8080/",
          "height": 35
        },
        "outputId": "3536e3e0-2a66-4c7a-fb72-b4a079040a38"
      },
      "source": [
        "label_ranking_loss(Y_train, train_pred)"
      ],
      "execution_count": null,
      "outputs": [
        {
          "output_type": "execute_result",
          "data": {
            "text/plain": [
              "0.0004213483146067416"
            ]
          },
          "metadata": {
            "tags": []
          },
          "execution_count": 46
        }
      ]
    },
    {
      "cell_type": "markdown",
      "metadata": {
        "id": "TKrRnk9uuEoS",
        "colab_type": "text"
      },
      "source": [
        "### **Baseline graph**"
      ]
    },
    {
      "cell_type": "code",
      "metadata": {
        "id": "erRgqTEIsX82",
        "colab_type": "code",
        "colab": {
          "base_uri": "https://localhost:8080/",
          "height": 644
        },
        "outputId": "dace2572-97f0-44d4-959d-215c094962c4"
      },
      "source": [
        "# list all data in history\n",
        "print(history.history.keys())\n",
        "# summarize history for accuracy\n",
        "plt.plot(history.history['accuracy'])\n",
        "plt.plot(history.history['val_accuracy'])\n",
        "plt.title('model accuracy')\n",
        "plt.ylabel('accuracy')\n",
        "plt.xlabel('epoch')\n",
        "plt.legend(['train', 'test'], loc='upper left')\n",
        "plt.show()\n",
        "# summarize history for loss\n",
        "plt.plot(history.history['loss'])\n",
        "plt.plot(history.history['val_loss'])\n",
        "plt.title('model loss')\n",
        "plt.ylabel('loss')\n",
        "plt.xlabel('epoch')\n",
        "plt.legend(['train', 'test'], loc='upper left')\n",
        "plt.show()"
      ],
      "execution_count": null,
      "outputs": [
        {
          "output_type": "stream",
          "text": [
            "dict_keys(['loss', 'accuracy', 'val_loss', 'val_accuracy'])\n"
          ],
          "name": "stdout"
        },
        {
          "output_type": "execute_result",
          "data": {
            "text/plain": [
              "[<matplotlib.lines.Line2D at 0x7f45067a4a90>]"
            ]
          },
          "metadata": {
            "tags": []
          },
          "execution_count": 47
        },
        {
          "output_type": "execute_result",
          "data": {
            "text/plain": [
              "[<matplotlib.lines.Line2D at 0x7f451607b470>]"
            ]
          },
          "metadata": {
            "tags": []
          },
          "execution_count": 47
        },
        {
          "output_type": "execute_result",
          "data": {
            "text/plain": [
              "Text(0.5, 1.0, 'model accuracy')"
            ]
          },
          "metadata": {
            "tags": []
          },
          "execution_count": 47
        },
        {
          "output_type": "execute_result",
          "data": {
            "text/plain": [
              "Text(0, 0.5, 'accuracy')"
            ]
          },
          "metadata": {
            "tags": []
          },
          "execution_count": 47
        },
        {
          "output_type": "execute_result",
          "data": {
            "text/plain": [
              "Text(0.5, 0, 'epoch')"
            ]
          },
          "metadata": {
            "tags": []
          },
          "execution_count": 47
        },
        {
          "output_type": "execute_result",
          "data": {
            "text/plain": [
              "<matplotlib.legend.Legend at 0x7f45160ac5f8>"
            ]
          },
          "metadata": {
            "tags": []
          },
          "execution_count": 47
        },
        {
          "output_type": "display_data",
          "data": {
            "image/png": "[encoded data removed]",
            "text/plain": [
              "<Figure size 432x288 with 1 Axes>"
            ]
          },
          "metadata": {
            "tags": [],
            "needs_background": "light"
          }
        },
        {
          "output_type": "execute_result",
          "data": {
            "text/plain": [
              "[<matplotlib.lines.Line2D at 0x7f4506708dd8>]"
            ]
          },
          "metadata": {
            "tags": []
          },
          "execution_count": 47
        },
        {
          "output_type": "execute_result",
          "data": {
            "text/plain": [
              "[<matplotlib.lines.Line2D at 0x7f45067e0390>]"
            ]
          },
          "metadata": {
            "tags": []
          },
          "execution_count": 47
        },
        {
          "output_type": "execute_result",
          "data": {
            "text/plain": [
              "Text(0.5, 1.0, 'model loss')"
            ]
          },
          "metadata": {
            "tags": []
          },
          "execution_count": 47
        },
        {
          "output_type": "execute_result",
          "data": {
            "text/plain": [
              "Text(0, 0.5, 'loss')"
            ]
          },
          "metadata": {
            "tags": []
          },
          "execution_count": 47
        },
        {
          "output_type": "execute_result",
          "data": {
            "text/plain": [
              "Text(0.5, 0, 'epoch')"
            ]
          },
          "metadata": {
            "tags": []
          },
          "execution_count": 47
        },
        {
          "output_type": "execute_result",
          "data": {
            "text/plain": [
              "<matplotlib.legend.Legend at 0x7f4506778710>"
            ]
          },
          "metadata": {
            "tags": []
          },
          "execution_count": 47
        },
        {
          "output_type": "display_data",
          "data": {
            "image/png": "[encoded data removed]",
            "text/plain": [
              "<Figure size 432x288 with 1 Axes>"
            ]
          },
          "metadata": {
            "tags": [],
            "needs_background": "light"
          }
        }
      ]
    }
  ]
}